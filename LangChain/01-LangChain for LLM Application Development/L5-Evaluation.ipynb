{
 "cells": [
  {
   "cell_type": "markdown",
   "id": "52824b89-532a-4e54-87e9-1410813cd39e",
   "metadata": {},
   "source": [
    "# LangChain: Evaluation\n",
    "\n",
    "## Outline:\n",
    "\n",
    "* Example generation\n",
    "* Manual evaluation (and debuging)\n",
    "* LLM-assisted evaluation\n",
    "* LangChain evaluation platform"
   ]
  },
  {
   "cell_type": "code",
   "execution_count": 1,
   "id": "b7ed03ed-1322-49e3-b2a2-33e94fb592ef",
   "metadata": {
    "height": 81,
    "tags": []
   },
   "outputs": [],
   "source": [
    "import os\n",
    "\n",
    "from dotenv import load_dotenv, find_dotenv\n",
    "_ = load_dotenv(find_dotenv()) # read local .env file"
   ]
  },
  {
   "cell_type": "markdown",
   "id": "945d8abb-ba55-40a4-a3c5-6ad0dab73e3e",
   "metadata": {},
   "source": [
    "Note: LLM's do not always produce the same results. When executing the code in your notebook, you may get slightly different answers that those in the video."
   ]
  },
  {
   "cell_type": "code",
   "execution_count": 2,
   "id": "24ff81cd-dce0-4344-8d45-4a98fd3a87c9",
   "metadata": {
    "height": 234
   },
   "outputs": [],
   "source": [
    "# account for deprecation of LLM model\n",
    "import datetime\n",
    "# Get the current date\n",
    "current_date = datetime.datetime.now().date()\n",
    "\n",
    "# Define the date after which the model should be set to \"gpt-3.5-turbo\"\n",
    "target_date = datetime.date(2024, 6, 12)\n",
    "\n",
    "# Set the model variable based on the current date\n",
    "if current_date > target_date:\n",
    "    llm_model = \"gpt-3.5-turbo\"\n",
    "else:\n",
    "    llm_model = \"gpt-3.5-turbo-0301\""
   ]
  },
  {
   "cell_type": "markdown",
   "id": "28008949",
   "metadata": {},
   "source": [
    "## Create our QandA application"
   ]
  },
  {
   "cell_type": "code",
   "execution_count": 3,
   "id": "974acf8e-8f88-42de-88f8-40a82cb58e8b",
   "metadata": {
    "height": 98
   },
   "outputs": [],
   "source": [
    "from langchain.chains import RetrievalQA\n",
    "from langchain.chat_models import ChatOpenAI\n",
    "from langchain.document_loaders import CSVLoader\n",
    "from langchain.indexes import VectorstoreIndexCreator\n",
    "from langchain.vectorstores import DocArrayInMemorySearch"
   ]
  },
  {
   "cell_type": "code",
   "execution_count": 4,
   "id": "9ec1106d",
   "metadata": {
    "height": 64
   },
   "outputs": [],
   "source": [
    "file = 'OutdoorClothingCatalog_1000.csv'\n",
    "loader = CSVLoader(file_path=file)\n",
    "data = loader.load()"
   ]
  },
  {
   "cell_type": "code",
   "execution_count": 5,
   "id": "b31c218f",
   "metadata": {
    "height": 64
   },
   "outputs": [],
   "source": [
    "index = VectorstoreIndexCreator(\n",
    "    vectorstore_cls=DocArrayInMemorySearch\n",
    ").from_loaders([loader])"
   ]
  },
  {
   "cell_type": "code",
   "execution_count": 6,
   "id": "a2006054",
   "metadata": {
    "height": 183
   },
   "outputs": [],
   "source": [
    "llm = ChatOpenAI(temperature = 0.0, model=llm_model)\n",
    "qa = RetrievalQA.from_chain_type(\n",
    "    llm=llm, \n",
    "    chain_type=\"stuff\", \n",
    "    retriever=index.vectorstore.as_retriever(), \n",
    "    verbose=True,\n",
    "    chain_type_kwargs = {\n",
    "        \"document_separator\": \"<<<<>>>>>\"\n",
    "    }\n",
    ")"
   ]
  },
  {
   "cell_type": "markdown",
   "id": "791ebd73",
   "metadata": {},
   "source": [
    "### Coming up with test datapoints"
   ]
  },
  {
   "cell_type": "code",
   "execution_count": 7,
   "id": "fb04a0f9",
   "metadata": {
    "height": 30
   },
   "outputs": [
    {
     "data": {
      "text/plain": [
       "Document(page_content=\": 10\\nname: Cozy Comfort Pullover Set, Stripe\\ndescription: Perfect for lounging, this striped knit set lives up to its name. We used ultrasoft fabric and an easy design that's as comfortable at bedtime as it is when we have to make a quick run out.\\n\\nSize & Fit\\n- Pants are Favorite Fit: Sits lower on the waist.\\n- Relaxed Fit: Our most generous fit sits farthest from the body.\\n\\nFabric & Care\\n- In the softest blend of 63% polyester, 35% rayon and 2% spandex.\\n\\nAdditional Features\\n- Relaxed fit top with raglan sleeves and rounded hem.\\n- Pull-on pants have a wide elastic waistband and drawstring, side pockets and a modern slim leg.\\n\\nImported.\", metadata={'source': 'OutdoorClothingCatalog_1000.csv', 'row': 10})"
      ]
     },
     "execution_count": 7,
     "metadata": {},
     "output_type": "execute_result"
    }
   ],
   "source": [
    "data[10]"
   ]
  },
  {
   "cell_type": "code",
   "execution_count": 8,
   "id": "fe4a88c2",
   "metadata": {
    "height": 30
   },
   "outputs": [
    {
     "data": {
      "text/plain": [
       "Document(page_content=': 11\\nname: Ultra-Lofty 850 Stretch Down Hooded Jacket\\ndescription: This technical stretch down jacket from our DownTek collection is sure to keep you warm and comfortable with its full-stretch construction providing exceptional range of motion. With a slightly fitted style that falls at the hip and best with a midweight layer, this jacket is suitable for light activity up to 20° and moderate activity up to -30°. The soft and durable 100% polyester shell offers complete windproof protection and is insulated with warm, lofty goose down. Other features include welded baffles for a no-stitch construction and excellent stretch, an adjustable hood, an interior media port and mesh stash pocket and a hem drawcord. Machine wash and dry. Imported.', metadata={'source': 'OutdoorClothingCatalog_1000.csv', 'row': 11})"
      ]
     },
     "execution_count": 8,
     "metadata": {},
     "output_type": "execute_result"
    }
   ],
   "source": [
    "data[11]"
   ]
  },
  {
   "cell_type": "markdown",
   "id": "8d548aef",
   "metadata": {},
   "source": [
    "### Hard-coded examples"
   ]
  },
  {
   "cell_type": "code",
   "execution_count": 9,
   "id": "c2d59bf2",
   "metadata": {
    "height": 217
   },
   "outputs": [],
   "source": [
    "examples = [\n",
    "    {\n",
    "        \"query\": \"Do the Cozy Comfort Pullover Set\\\n",
    "        have side pockets?\",\n",
    "        \"answer\": \"Yes\"\n",
    "    },\n",
    "    {\n",
    "        \"query\": \"What collection is the Ultra-Lofty \\\n",
    "        850 Stretch Down Hooded Jacket from?\",\n",
    "        \"answer\": \"The DownTek collection\"\n",
    "    }\n",
    "]"
   ]
  },
  {
   "cell_type": "markdown",
   "id": "c7ce3e4f",
   "metadata": {},
   "source": [
    "### LLM-Generated examples"
   ]
  },
  {
   "cell_type": "code",
   "execution_count": 10,
   "id": "d44f8376",
   "metadata": {
    "height": 47
   },
   "outputs": [],
   "source": [
    "from langchain.evaluation.qa import QAGenerateChain\n"
   ]
  },
  {
   "cell_type": "code",
   "execution_count": 11,
   "id": "34e87816",
   "metadata": {
    "height": 30
   },
   "outputs": [],
   "source": [
    "example_gen_chain = QAGenerateChain.from_llm(ChatOpenAI(model=llm_model))"
   ]
  },
  {
   "cell_type": "code",
   "execution_count": 12,
   "id": "31fb5bd0-fc2a-478c-9a09-6fe7e3307241",
   "metadata": {
    "height": 30
   },
   "outputs": [],
   "source": [
    "# the warning below can be safely ignored"
   ]
  },
  {
   "cell_type": "code",
   "execution_count": 13,
   "id": "62abae09",
   "metadata": {
    "height": 64
   },
   "outputs": [],
   "source": [
    "new_examples = example_gen_chain.apply_and_parse(\n",
    "    [{\"doc\": t} for t in data[:5]]\n",
    ")"
   ]
  },
  {
   "cell_type": "code",
   "execution_count": 14,
   "id": "97ab28b5",
   "metadata": {
    "height": 30
   },
   "outputs": [
    {
     "data": {
      "text/plain": [
       "{'query': \" What is the approximate weight of the Women's Campside Oxfords per pair?\\n\\n\",\n",
       " 'answer': \" The approximate weight of the Women's Campside Oxfords per pair is 1 lb. 1 oz.\"}"
      ]
     },
     "execution_count": 14,
     "metadata": {},
     "output_type": "execute_result"
    }
   ],
   "source": [
    "new_examples[0]"
   ]
  },
  {
   "cell_type": "code",
   "execution_count": 15,
   "id": "0ebe4228",
   "metadata": {
    "height": 30
   },
   "outputs": [
    {
     "data": {
      "text/plain": [
       "Document(page_content=\": 0\\nname: Women's Campside Oxfords\\ndescription: This ultracomfortable lace-to-toe Oxford boasts a super-soft canvas, thick cushioning, and quality construction for a broken-in feel from the first time you put them on. \\n\\nSize & Fit: Order regular shoe size. For half sizes not offered, order up to next whole size. \\n\\nSpecs: Approx. weight: 1 lb.1 oz. per pair. \\n\\nConstruction: Soft canvas material for a broken-in feel and look. Comfortable EVA innersole with Cleansport NXT® antimicrobial odor control. Vintage hunt, fish and camping motif on innersole. Moderate arch contour of innersole. EVA foam midsole for cushioning and support. Chain-tread-inspired molded rubber outsole with modified chain-tread pattern. Imported. \\n\\nQuestions? Please contact us for any inquiries.\", metadata={'source': 'OutdoorClothingCatalog_1000.csv', 'row': 0})"
      ]
     },
     "execution_count": 15,
     "metadata": {},
     "output_type": "execute_result"
    }
   ],
   "source": [
    "data[0]"
   ]
  },
  {
   "cell_type": "markdown",
   "id": "faf25f2f",
   "metadata": {},
   "source": [
    "### Combine examples"
   ]
  },
  {
   "cell_type": "code",
   "execution_count": 16,
   "id": "ada2a3fc",
   "metadata": {
    "height": 30
   },
   "outputs": [],
   "source": [
    "examples += new_examples"
   ]
  },
  {
   "cell_type": "code",
   "execution_count": 17,
   "id": "9cdf5cf5",
   "metadata": {
    "height": 30
   },
   "outputs": [
    {
     "name": "stdout",
     "output_type": "stream",
     "text": [
      "\n",
      "\n",
      "\u001b[1m> Entering new RetrievalQA chain...\u001b[0m\n",
      "\n",
      "\u001b[1m> Finished chain.\u001b[0m\n"
     ]
    },
    {
     "data": {
      "text/plain": [
       "'Yes, the Cozy Comfort Pullover Set does have side pockets.'"
      ]
     },
     "execution_count": 17,
     "metadata": {},
     "output_type": "execute_result"
    }
   ],
   "source": [
    "qa.run(examples[0][\"query\"])"
   ]
  },
  {
   "cell_type": "code",
   "execution_count": 26,
   "id": "dd0319e2",
   "metadata": {
    "height": 47
   },
   "outputs": [
    {
     "name": "stdout",
     "output_type": "stream",
     "text": [
      "\n",
      "\n",
      "\u001b[1m> Entering new RetrievalQA chain...\u001b[0m\n",
      "\n",
      "\u001b[1m> Finished chain.\u001b[0m\n",
      "Yes, the Cozy Comfort Pullover Set does have side pockets.\n",
      "\n",
      "\n",
      "\u001b[1m> Entering new RetrievalQA chain...\u001b[0m\n",
      "\n",
      "\u001b[1m> Finished chain.\u001b[0m\n",
      "The Ultra-Lofty 850 Stretch Down Hooded Jacket is from the DownTek collection.\n",
      "\n",
      "\n",
      "\u001b[1m> Entering new RetrievalQA chain...\u001b[0m\n",
      "\n",
      "\u001b[1m> Finished chain.\u001b[0m\n",
      "The approximate weight of the Women's Campside Oxfords per pair is 1 lb. 1 oz.\n",
      "\n",
      "\n",
      "\u001b[1m> Entering new RetrievalQA chain...\u001b[0m\n",
      "\n",
      "\u001b[1m> Finished chain.\u001b[0m\n",
      "The dimensions of the small size of the Recycled Waterhog Dog Mat, Chevron Weave are 18\" x 28\", and the dimensions of the medium size are 22.5\" x 34.5\".\n",
      "\n",
      "\n",
      "\u001b[1m> Entering new RetrievalQA chain...\u001b[0m\n",
      "\n",
      "\u001b[1m> Finished chain.\u001b[0m\n",
      "Some key features of the Infant and Toddler Girls' Coastal Chill Swimsuit, Two-Piece are:\n",
      "- Bright colors, ruffles, and exclusive whimsical prints\n",
      "- Four-way-stretch and chlorine-resistant fabric\n",
      "- UPF 50+ rated fabric for high sun protection\n",
      "- Crossover no-slip straps for a secure fit\n",
      "- Fully lined bottom for maximum coverage\n",
      "- Machine washable and line dry for best results\n",
      "\n",
      "\n",
      "\u001b[1m> Entering new RetrievalQA chain...\u001b[0m\n",
      "\n",
      "\u001b[1m> Finished chain.\u001b[0m\n",
      "The fabric composition of the Refresh Swimwear V-Neck Tankini Contrasts is as follows:\n",
      "- Body: 82% recycled nylon, 18% Lycra® spandex\n",
      "- Lining: 90% recycled nylon, 10% Lycra® spandex\n",
      "\n",
      "\n",
      "\u001b[1m> Entering new RetrievalQA chain...\u001b[0m\n",
      "\n",
      "\u001b[1m> Finished chain.\u001b[0m\n",
      "The EcoFlex 3L Storm Pants feature TEK O2 technology, which offers the most breathability tested. This technology allows air to permeate while keeping water out, providing maximum comfort and dryness during various outdoor activities.\n"
     ]
    }
   ],
   "source": [
    "for i in range(7):\n",
    "    print(qa.run(examples[i][\"query\"]))"
   ]
  },
  {
   "cell_type": "markdown",
   "id": "63f3cb08",
   "metadata": {},
   "source": [
    "## Manual Evaluation"
   ]
  },
  {
   "cell_type": "code",
   "execution_count": 27,
   "id": "fcaf622e",
   "metadata": {
    "height": 47
   },
   "outputs": [],
   "source": [
    "import langchain\n",
    "langchain.debug = True"
   ]
  },
  {
   "cell_type": "code",
   "execution_count": 28,
   "id": "8a142638",
   "metadata": {
    "height": 30
   },
   "outputs": [
    {
     "name": "stdout",
     "output_type": "stream",
     "text": [
      "\u001b[32;1m\u001b[1;3m[chain/start]\u001b[0m \u001b[1m[1:chain:RetrievalQA] Entering Chain run with input:\n",
      "\u001b[0m{\n",
      "  \"query\": \"Do the Cozy Comfort Pullover Set        have side pockets?\"\n",
      "}\n",
      "\u001b[32;1m\u001b[1;3m[chain/start]\u001b[0m \u001b[1m[1:chain:RetrievalQA > 2:chain:StuffDocumentsChain] Entering Chain run with input:\n",
      "\u001b[0m[inputs]\n",
      "\u001b[32;1m\u001b[1;3m[chain/start]\u001b[0m \u001b[1m[1:chain:RetrievalQA > 2:chain:StuffDocumentsChain > 3:chain:LLMChain] Entering Chain run with input:\n",
      "\u001b[0m{\n",
      "  \"question\": \"Do the Cozy Comfort Pullover Set        have side pockets?\",\n",
      "  \"context\": \": 10\\nname: Cozy Comfort Pullover Set, Stripe\\ndescription: Perfect for lounging, this striped knit set lives up to its name. We used ultrasoft fabric and an easy design that's as comfortable at bedtime as it is when we have to make a quick run out.\\n\\nSize & Fit\\n- Pants are Favorite Fit: Sits lower on the waist.\\n- Relaxed Fit: Our most generous fit sits farthest from the body.\\n\\nFabric & Care\\n- In the softest blend of 63% polyester, 35% rayon and 2% spandex.\\n\\nAdditional Features\\n- Relaxed fit top with raglan sleeves and rounded hem.\\n- Pull-on pants have a wide elastic waistband and drawstring, side pockets and a modern slim leg.\\n\\nImported.<<<<>>>>>: 73\\nname: Cozy Cuddles Knit Pullover Set\\ndescription: Perfect for lounging, this knit set lives up to its name. We used ultrasoft fabric and an easy design that's as comfortable at bedtime as it is when we have to make a quick run out. \\n\\nSize & Fit \\nPants are Favorite Fit: Sits lower on the waist. \\nRelaxed Fit: Our most generous fit sits farthest from the body. \\n\\nFabric & Care \\nIn the softest blend of 63% polyester, 35% rayon and 2% spandex.\\n\\nAdditional Features \\nRelaxed fit top with raglan sleeves and rounded hem. \\nPull-on pants have a wide elastic waistband and drawstring, side pockets and a modern slim leg. \\nImported.<<<<>>>>>: 632\\nname: Cozy Comfort Fleece Pullover\\ndescription: The ultimate sweater fleece \\u2013 made from superior fabric and offered at an unbeatable price. \\n\\nSize & Fit\\nSlightly Fitted: Softly shapes the body. Falls at hip. \\n\\nWhy We Love It\\nOur customers (and employees) love the rugged construction and heritage-inspired styling of our popular Sweater Fleece Pullover and wear it for absolutely everything. From high-intensity activities to everyday tasks, you'll find yourself reaching for it every time.\\n\\nFabric & Care\\nRugged sweater-knit exterior and soft brushed interior for exceptional warmth and comfort. Made from soft, 100% polyester. Machine wash and dry.\\n\\nAdditional Features\\nFeatures our classic Mount Katahdin logo. Snap placket. Front princess seams create a feminine shape. Kangaroo handwarmer pockets. Cuffs and hem reinforced with jersey binding. Imported.\\n\\n \\u2013 Official Supplier to the U.S. Ski Team\\nTHEIR WILL TO WIN, WOVEN RIGHT IN. LEARN MORE<<<<>>>>>: 151\\nname: Cozy Quilted Sweatshirt\\ndescription: Our sweatshirt is an instant classic with its great quilted texture and versatile weight that easily transitions between seasons. With a traditional fit that is relaxed through the chest, sleeve, and waist, this pullover is lightweight enough to be worn most months of the year. The cotton blend fabric is super soft and comfortable, making it the perfect casual layer. To make dressing easy, this sweatshirt also features a snap placket and a heritage-inspired Mt. Katahdin logo patch. For care, machine wash and dry. Imported.\"\n",
      "}\n",
      "\u001b[32;1m\u001b[1;3m[llm/start]\u001b[0m \u001b[1m[1:chain:RetrievalQA > 2:chain:StuffDocumentsChain > 3:chain:LLMChain > 4:llm:ChatOpenAI] Entering LLM run with input:\n",
      "\u001b[0m{\n",
      "  \"prompts\": [\n",
      "    \"System: Use the following pieces of context to answer the users question. \\nIf you don't know the answer, just say that you don't know, don't try to make up an answer.\\n----------------\\n: 10\\nname: Cozy Comfort Pullover Set, Stripe\\ndescription: Perfect for lounging, this striped knit set lives up to its name. We used ultrasoft fabric and an easy design that's as comfortable at bedtime as it is when we have to make a quick run out.\\n\\nSize & Fit\\n- Pants are Favorite Fit: Sits lower on the waist.\\n- Relaxed Fit: Our most generous fit sits farthest from the body.\\n\\nFabric & Care\\n- In the softest blend of 63% polyester, 35% rayon and 2% spandex.\\n\\nAdditional Features\\n- Relaxed fit top with raglan sleeves and rounded hem.\\n- Pull-on pants have a wide elastic waistband and drawstring, side pockets and a modern slim leg.\\n\\nImported.<<<<>>>>>: 73\\nname: Cozy Cuddles Knit Pullover Set\\ndescription: Perfect for lounging, this knit set lives up to its name. We used ultrasoft fabric and an easy design that's as comfortable at bedtime as it is when we have to make a quick run out. \\n\\nSize & Fit \\nPants are Favorite Fit: Sits lower on the waist. \\nRelaxed Fit: Our most generous fit sits farthest from the body. \\n\\nFabric & Care \\nIn the softest blend of 63% polyester, 35% rayon and 2% spandex.\\n\\nAdditional Features \\nRelaxed fit top with raglan sleeves and rounded hem. \\nPull-on pants have a wide elastic waistband and drawstring, side pockets and a modern slim leg. \\nImported.<<<<>>>>>: 632\\nname: Cozy Comfort Fleece Pullover\\ndescription: The ultimate sweater fleece \\u2013 made from superior fabric and offered at an unbeatable price. \\n\\nSize & Fit\\nSlightly Fitted: Softly shapes the body. Falls at hip. \\n\\nWhy We Love It\\nOur customers (and employees) love the rugged construction and heritage-inspired styling of our popular Sweater Fleece Pullover and wear it for absolutely everything. From high-intensity activities to everyday tasks, you'll find yourself reaching for it every time.\\n\\nFabric & Care\\nRugged sweater-knit exterior and soft brushed interior for exceptional warmth and comfort. Made from soft, 100% polyester. Machine wash and dry.\\n\\nAdditional Features\\nFeatures our classic Mount Katahdin logo. Snap placket. Front princess seams create a feminine shape. Kangaroo handwarmer pockets. Cuffs and hem reinforced with jersey binding. Imported.\\n\\n \\u2013 Official Supplier to the U.S. Ski Team\\nTHEIR WILL TO WIN, WOVEN RIGHT IN. LEARN MORE<<<<>>>>>: 151\\nname: Cozy Quilted Sweatshirt\\ndescription: Our sweatshirt is an instant classic with its great quilted texture and versatile weight that easily transitions between seasons. With a traditional fit that is relaxed through the chest, sleeve, and waist, this pullover is lightweight enough to be worn most months of the year. The cotton blend fabric is super soft and comfortable, making it the perfect casual layer. To make dressing easy, this sweatshirt also features a snap placket and a heritage-inspired Mt. Katahdin logo patch. For care, machine wash and dry. Imported.\\nHuman: Do the Cozy Comfort Pullover Set        have side pockets?\"\n",
      "  ]\n",
      "}\n",
      "\u001b[36;1m\u001b[1;3m[llm/end]\u001b[0m \u001b[1m[1:chain:RetrievalQA > 2:chain:StuffDocumentsChain > 3:chain:LLMChain > 4:llm:ChatOpenAI] [15.189ms] Exiting LLM run with output:\n",
      "\u001b[0m{\n",
      "  \"generations\": [\n",
      "    [\n",
      "      {\n",
      "        \"text\": \"Yes, the Cozy Comfort Pullover Set does have side pockets.\",\n",
      "        \"generation_info\": null,\n",
      "        \"message\": {\n",
      "          \"content\": \"Yes, the Cozy Comfort Pullover Set does have side pockets.\",\n",
      "          \"additional_kwargs\": {},\n",
      "          \"example\": false\n",
      "        }\n",
      "      }\n",
      "    ]\n",
      "  ],\n",
      "  \"llm_output\": {\n",
      "    \"token_usage\": {\n",
      "      \"prompt_tokens\": 732,\n",
      "      \"completion_tokens\": 14,\n",
      "      \"total_tokens\": 746\n",
      "    },\n",
      "    \"model_name\": \"gpt-3.5-turbo\"\n",
      "  }\n",
      "}\n",
      "\u001b[36;1m\u001b[1;3m[chain/end]\u001b[0m \u001b[1m[1:chain:RetrievalQA > 2:chain:StuffDocumentsChain > 3:chain:LLMChain] [15.757ms] Exiting Chain run with output:\n",
      "\u001b[0m{\n",
      "  \"text\": \"Yes, the Cozy Comfort Pullover Set does have side pockets.\"\n",
      "}\n",
      "\u001b[36;1m\u001b[1;3m[chain/end]\u001b[0m \u001b[1m[1:chain:RetrievalQA > 2:chain:StuffDocumentsChain] [16.192999999999998ms] Exiting Chain run with output:\n",
      "\u001b[0m{\n",
      "  \"output_text\": \"Yes, the Cozy Comfort Pullover Set does have side pockets.\"\n",
      "}\n",
      "\u001b[36;1m\u001b[1;3m[chain/end]\u001b[0m \u001b[1m[1:chain:RetrievalQA] [43.388000000000005ms] Exiting Chain run with output:\n",
      "\u001b[0m{\n",
      "  \"result\": \"Yes, the Cozy Comfort Pullover Set does have side pockets.\"\n",
      "}\n"
     ]
    },
    {
     "data": {
      "text/plain": [
       "'Yes, the Cozy Comfort Pullover Set does have side pockets.'"
      ]
     },
     "execution_count": 28,
     "metadata": {},
     "output_type": "execute_result"
    }
   ],
   "source": [
    "qa.run(examples[0][\"query\"])"
   ]
  },
  {
   "cell_type": "code",
   "execution_count": 30,
   "id": "b3d6bef0",
   "metadata": {
    "height": 47
   },
   "outputs": [],
   "source": [
    "# Turn off the debug mode\n",
    "langchain.debug = True"
   ]
  },
  {
   "cell_type": "markdown",
   "id": "d5bdbdce",
   "metadata": {},
   "source": [
    "## LLM assisted evaluation"
   ]
  },
  {
   "cell_type": "code",
   "execution_count": 31,
   "id": "a4dca05a",
   "metadata": {
    "height": 30
   },
   "outputs": [
    {
     "name": "stdout",
     "output_type": "stream",
     "text": [
      "\u001b[32;1m\u001b[1;3m[chain/start]\u001b[0m \u001b[1m[1:chain:RetrievalQA] Entering Chain run with input:\n",
      "\u001b[0m{\n",
      "  \"query\": \"Do the Cozy Comfort Pullover Set        have side pockets?\",\n",
      "  \"answer\": \"Yes\"\n",
      "}\n",
      "\u001b[32;1m\u001b[1;3m[chain/start]\u001b[0m \u001b[1m[1:chain:RetrievalQA > 2:chain:StuffDocumentsChain] Entering Chain run with input:\n",
      "\u001b[0m[inputs]\n",
      "\u001b[32;1m\u001b[1;3m[chain/start]\u001b[0m \u001b[1m[1:chain:RetrievalQA > 2:chain:StuffDocumentsChain > 3:chain:LLMChain] Entering Chain run with input:\n",
      "\u001b[0m{\n",
      "  \"question\": \"Do the Cozy Comfort Pullover Set        have side pockets?\",\n",
      "  \"context\": \": 10\\nname: Cozy Comfort Pullover Set, Stripe\\ndescription: Perfect for lounging, this striped knit set lives up to its name. We used ultrasoft fabric and an easy design that's as comfortable at bedtime as it is when we have to make a quick run out.\\n\\nSize & Fit\\n- Pants are Favorite Fit: Sits lower on the waist.\\n- Relaxed Fit: Our most generous fit sits farthest from the body.\\n\\nFabric & Care\\n- In the softest blend of 63% polyester, 35% rayon and 2% spandex.\\n\\nAdditional Features\\n- Relaxed fit top with raglan sleeves and rounded hem.\\n- Pull-on pants have a wide elastic waistband and drawstring, side pockets and a modern slim leg.\\n\\nImported.<<<<>>>>>: 73\\nname: Cozy Cuddles Knit Pullover Set\\ndescription: Perfect for lounging, this knit set lives up to its name. We used ultrasoft fabric and an easy design that's as comfortable at bedtime as it is when we have to make a quick run out. \\n\\nSize & Fit \\nPants are Favorite Fit: Sits lower on the waist. \\nRelaxed Fit: Our most generous fit sits farthest from the body. \\n\\nFabric & Care \\nIn the softest blend of 63% polyester, 35% rayon and 2% spandex.\\n\\nAdditional Features \\nRelaxed fit top with raglan sleeves and rounded hem. \\nPull-on pants have a wide elastic waistband and drawstring, side pockets and a modern slim leg. \\nImported.<<<<>>>>>: 632\\nname: Cozy Comfort Fleece Pullover\\ndescription: The ultimate sweater fleece \\u2013 made from superior fabric and offered at an unbeatable price. \\n\\nSize & Fit\\nSlightly Fitted: Softly shapes the body. Falls at hip. \\n\\nWhy We Love It\\nOur customers (and employees) love the rugged construction and heritage-inspired styling of our popular Sweater Fleece Pullover and wear it for absolutely everything. From high-intensity activities to everyday tasks, you'll find yourself reaching for it every time.\\n\\nFabric & Care\\nRugged sweater-knit exterior and soft brushed interior for exceptional warmth and comfort. Made from soft, 100% polyester. Machine wash and dry.\\n\\nAdditional Features\\nFeatures our classic Mount Katahdin logo. Snap placket. Front princess seams create a feminine shape. Kangaroo handwarmer pockets. Cuffs and hem reinforced with jersey binding. Imported.\\n\\n \\u2013 Official Supplier to the U.S. Ski Team\\nTHEIR WILL TO WIN, WOVEN RIGHT IN. LEARN MORE<<<<>>>>>: 151\\nname: Cozy Quilted Sweatshirt\\ndescription: Our sweatshirt is an instant classic with its great quilted texture and versatile weight that easily transitions between seasons. With a traditional fit that is relaxed through the chest, sleeve, and waist, this pullover is lightweight enough to be worn most months of the year. The cotton blend fabric is super soft and comfortable, making it the perfect casual layer. To make dressing easy, this sweatshirt also features a snap placket and a heritage-inspired Mt. Katahdin logo patch. For care, machine wash and dry. Imported.\"\n",
      "}\n",
      "\u001b[32;1m\u001b[1;3m[llm/start]\u001b[0m \u001b[1m[1:chain:RetrievalQA > 2:chain:StuffDocumentsChain > 3:chain:LLMChain > 4:llm:ChatOpenAI] Entering LLM run with input:\n",
      "\u001b[0m{\n",
      "  \"prompts\": [\n",
      "    \"System: Use the following pieces of context to answer the users question. \\nIf you don't know the answer, just say that you don't know, don't try to make up an answer.\\n----------------\\n: 10\\nname: Cozy Comfort Pullover Set, Stripe\\ndescription: Perfect for lounging, this striped knit set lives up to its name. We used ultrasoft fabric and an easy design that's as comfortable at bedtime as it is when we have to make a quick run out.\\n\\nSize & Fit\\n- Pants are Favorite Fit: Sits lower on the waist.\\n- Relaxed Fit: Our most generous fit sits farthest from the body.\\n\\nFabric & Care\\n- In the softest blend of 63% polyester, 35% rayon and 2% spandex.\\n\\nAdditional Features\\n- Relaxed fit top with raglan sleeves and rounded hem.\\n- Pull-on pants have a wide elastic waistband and drawstring, side pockets and a modern slim leg.\\n\\nImported.<<<<>>>>>: 73\\nname: Cozy Cuddles Knit Pullover Set\\ndescription: Perfect for lounging, this knit set lives up to its name. We used ultrasoft fabric and an easy design that's as comfortable at bedtime as it is when we have to make a quick run out. \\n\\nSize & Fit \\nPants are Favorite Fit: Sits lower on the waist. \\nRelaxed Fit: Our most generous fit sits farthest from the body. \\n\\nFabric & Care \\nIn the softest blend of 63% polyester, 35% rayon and 2% spandex.\\n\\nAdditional Features \\nRelaxed fit top with raglan sleeves and rounded hem. \\nPull-on pants have a wide elastic waistband and drawstring, side pockets and a modern slim leg. \\nImported.<<<<>>>>>: 632\\nname: Cozy Comfort Fleece Pullover\\ndescription: The ultimate sweater fleece \\u2013 made from superior fabric and offered at an unbeatable price. \\n\\nSize & Fit\\nSlightly Fitted: Softly shapes the body. Falls at hip. \\n\\nWhy We Love It\\nOur customers (and employees) love the rugged construction and heritage-inspired styling of our popular Sweater Fleece Pullover and wear it for absolutely everything. From high-intensity activities to everyday tasks, you'll find yourself reaching for it every time.\\n\\nFabric & Care\\nRugged sweater-knit exterior and soft brushed interior for exceptional warmth and comfort. Made from soft, 100% polyester. Machine wash and dry.\\n\\nAdditional Features\\nFeatures our classic Mount Katahdin logo. Snap placket. Front princess seams create a feminine shape. Kangaroo handwarmer pockets. Cuffs and hem reinforced with jersey binding. Imported.\\n\\n \\u2013 Official Supplier to the U.S. Ski Team\\nTHEIR WILL TO WIN, WOVEN RIGHT IN. LEARN MORE<<<<>>>>>: 151\\nname: Cozy Quilted Sweatshirt\\ndescription: Our sweatshirt is an instant classic with its great quilted texture and versatile weight that easily transitions between seasons. With a traditional fit that is relaxed through the chest, sleeve, and waist, this pullover is lightweight enough to be worn most months of the year. The cotton blend fabric is super soft and comfortable, making it the perfect casual layer. To make dressing easy, this sweatshirt also features a snap placket and a heritage-inspired Mt. Katahdin logo patch. For care, machine wash and dry. Imported.\\nHuman: Do the Cozy Comfort Pullover Set        have side pockets?\"\n",
      "  ]\n",
      "}\n",
      "\u001b[36;1m\u001b[1;3m[llm/end]\u001b[0m \u001b[1m[1:chain:RetrievalQA > 2:chain:StuffDocumentsChain > 3:chain:LLMChain > 4:llm:ChatOpenAI] [15.180000000000001ms] Exiting LLM run with output:\n",
      "\u001b[0m{\n",
      "  \"generations\": [\n",
      "    [\n",
      "      {\n",
      "        \"text\": \"Yes, the Cozy Comfort Pullover Set does have side pockets.\",\n",
      "        \"generation_info\": null,\n",
      "        \"message\": {\n",
      "          \"content\": \"Yes, the Cozy Comfort Pullover Set does have side pockets.\",\n",
      "          \"additional_kwargs\": {},\n",
      "          \"example\": false\n",
      "        }\n",
      "      }\n",
      "    ]\n",
      "  ],\n",
      "  \"llm_output\": {\n",
      "    \"token_usage\": {\n",
      "      \"prompt_tokens\": 732,\n",
      "      \"completion_tokens\": 14,\n",
      "      \"total_tokens\": 746\n",
      "    },\n",
      "    \"model_name\": \"gpt-3.5-turbo\"\n",
      "  }\n",
      "}\n",
      "\u001b[36;1m\u001b[1;3m[chain/end]\u001b[0m \u001b[1m[1:chain:RetrievalQA > 2:chain:StuffDocumentsChain > 3:chain:LLMChain] [15.674000000000001ms] Exiting Chain run with output:\n",
      "\u001b[0m{\n",
      "  \"text\": \"Yes, the Cozy Comfort Pullover Set does have side pockets.\"\n",
      "}\n",
      "\u001b[36;1m\u001b[1;3m[chain/end]\u001b[0m \u001b[1m[1:chain:RetrievalQA > 2:chain:StuffDocumentsChain] [16.073ms] Exiting Chain run with output:\n",
      "\u001b[0m{\n",
      "  \"output_text\": \"Yes, the Cozy Comfort Pullover Set does have side pockets.\"\n",
      "}\n",
      "\u001b[36;1m\u001b[1;3m[chain/end]\u001b[0m \u001b[1m[1:chain:RetrievalQA] [37.703ms] Exiting Chain run with output:\n",
      "\u001b[0m{\n",
      "  \"result\": \"Yes, the Cozy Comfort Pullover Set does have side pockets.\"\n",
      "}\n",
      "\u001b[32;1m\u001b[1;3m[chain/start]\u001b[0m \u001b[1m[1:chain:RetrievalQA] Entering Chain run with input:\n",
      "\u001b[0m{\n",
      "  \"query\": \"What collection is the Ultra-Lofty         850 Stretch Down Hooded Jacket from?\",\n",
      "  \"answer\": \"The DownTek collection\"\n",
      "}\n",
      "\u001b[32;1m\u001b[1;3m[chain/start]\u001b[0m \u001b[1m[1:chain:RetrievalQA > 2:chain:StuffDocumentsChain] Entering Chain run with input:\n",
      "\u001b[0m[inputs]\n",
      "\u001b[32;1m\u001b[1;3m[chain/start]\u001b[0m \u001b[1m[1:chain:RetrievalQA > 2:chain:StuffDocumentsChain > 3:chain:LLMChain] Entering Chain run with input:\n",
      "\u001b[0m{\n",
      "  \"question\": \"What collection is the Ultra-Lofty         850 Stretch Down Hooded Jacket from?\",\n",
      "  \"context\": \": 11\\nname: Ultra-Lofty 850 Stretch Down Hooded Jacket\\ndescription: This technical stretch down jacket from our DownTek collection is sure to keep you warm and comfortable with its full-stretch construction providing exceptional range of motion. With a slightly fitted style that falls at the hip and best with a midweight layer, this jacket is suitable for light activity up to 20\\u00b0 and moderate activity up to -30\\u00b0. The soft and durable 100% polyester shell offers complete windproof protection and is insulated with warm, lofty goose down. Other features include welded baffles for a no-stitch construction and excellent stretch, an adjustable hood, an interior media port and mesh stash pocket and a hem drawcord. Machine wash and dry. Imported.<<<<>>>>>: 364\\nname: Ultra-Loft 850 Big Baffle Hooded Jacket\\ndescription: Our Ultralight 850 Down Jacket is designed with bigger baffles to provide you with unparalleled comfort and style. It's suitable for light activity up to 15\\u00b0 and moderate activity to -35\\u00b0. Its slightly fitted cut falls below the hips and best with midweight layer, making sure you stay warm and cozy. The shell is made from Pertex Y-shaped yarn technology, a tightly interlocked weave that resists moisture and keeps down feathers inside. It's filled with premium 850-fill-power goose down, one of the highest on the market, and treated with DownTek for water repellency. It's also responsibly sourced down. Plus, it features adjustable hood, two zippered hand pockets, one zippered chest pocket, low-profile inner cuff construction and a hem drawcord for additional coverage and wind protection. Machine wash and dry for easy care. Imported.<<<<>>>>>: 241\\nname: Women's Ultra-Loft Down Sweater Hooded Jacket\\ndescription: Our revolutionary 850 jacket is designed with the best outerwear technology to ensure unbeatable performance. With premium 850 down for more warmth for its weight and DownTek treatment for water resistance, this jacket is light, lofty and warm. The tightly woven Pertex Quantum nylon shell is wind and weather-resistant for added protection. Comfort ratings for light activity is up to 30\\u00b0 and moderate activity up to -20\\u00b0. With a slightly fitted shape that falls at the hip and best with a midweight layer, this jacket will keep you warm in any condition. It is virtually weightless and packs away into its own pocket. Certified by the Responsible Down Standard, it is a jacket of its own class.<<<<>>>>>: 244\\nname: UltraLoft 850 Down Jacket\\ndescription: Our revolutionary 850 jacket is the perfect choice for all your outdoor adventures. Combining the latest outerwear technology, the jacket features innovative DownTek fill, 850-fill-power, and a Pertex Quantum nylon shell for unbeatable performance. Light activity is suitable up to 25\\u00b0 and moderate activity up to -25\\u00b0. With a center back length of 29\\u00bd\\\" (Tall 31\\\") and a slightly fitted design that falls at the hip, this jacket is made to move. It's crafted with premium 850 down for more warmth without the weight and treated with revolutionary DownTek that allows it to resist moisture and dry faster. The game-changing Pertex Quantum nylon shell is tightly woven to resist the elements. The jacket also features elastic cuffs, an internal stowaway pocket, external zip handwarmer pockets, media storage with headphone ports, and machine-washable fabric. Questions? Contact us for more information.\"\n",
      "}\n",
      "\u001b[32;1m\u001b[1;3m[llm/start]\u001b[0m \u001b[1m[1:chain:RetrievalQA > 2:chain:StuffDocumentsChain > 3:chain:LLMChain > 4:llm:ChatOpenAI] Entering LLM run with input:\n",
      "\u001b[0m{\n",
      "  \"prompts\": [\n",
      "    \"System: Use the following pieces of context to answer the users question. \\nIf you don't know the answer, just say that you don't know, don't try to make up an answer.\\n----------------\\n: 11\\nname: Ultra-Lofty 850 Stretch Down Hooded Jacket\\ndescription: This technical stretch down jacket from our DownTek collection is sure to keep you warm and comfortable with its full-stretch construction providing exceptional range of motion. With a slightly fitted style that falls at the hip and best with a midweight layer, this jacket is suitable for light activity up to 20\\u00b0 and moderate activity up to -30\\u00b0. The soft and durable 100% polyester shell offers complete windproof protection and is insulated with warm, lofty goose down. Other features include welded baffles for a no-stitch construction and excellent stretch, an adjustable hood, an interior media port and mesh stash pocket and a hem drawcord. Machine wash and dry. Imported.<<<<>>>>>: 364\\nname: Ultra-Loft 850 Big Baffle Hooded Jacket\\ndescription: Our Ultralight 850 Down Jacket is designed with bigger baffles to provide you with unparalleled comfort and style. It's suitable for light activity up to 15\\u00b0 and moderate activity to -35\\u00b0. Its slightly fitted cut falls below the hips and best with midweight layer, making sure you stay warm and cozy. The shell is made from Pertex Y-shaped yarn technology, a tightly interlocked weave that resists moisture and keeps down feathers inside. It's filled with premium 850-fill-power goose down, one of the highest on the market, and treated with DownTek for water repellency. It's also responsibly sourced down. Plus, it features adjustable hood, two zippered hand pockets, one zippered chest pocket, low-profile inner cuff construction and a hem drawcord for additional coverage and wind protection. Machine wash and dry for easy care. Imported.<<<<>>>>>: 241\\nname: Women's Ultra-Loft Down Sweater Hooded Jacket\\ndescription: Our revolutionary 850 jacket is designed with the best outerwear technology to ensure unbeatable performance. With premium 850 down for more warmth for its weight and DownTek treatment for water resistance, this jacket is light, lofty and warm. The tightly woven Pertex Quantum nylon shell is wind and weather-resistant for added protection. Comfort ratings for light activity is up to 30\\u00b0 and moderate activity up to -20\\u00b0. With a slightly fitted shape that falls at the hip and best with a midweight layer, this jacket will keep you warm in any condition. It is virtually weightless and packs away into its own pocket. Certified by the Responsible Down Standard, it is a jacket of its own class.<<<<>>>>>: 244\\nname: UltraLoft 850 Down Jacket\\ndescription: Our revolutionary 850 jacket is the perfect choice for all your outdoor adventures. Combining the latest outerwear technology, the jacket features innovative DownTek fill, 850-fill-power, and a Pertex Quantum nylon shell for unbeatable performance. Light activity is suitable up to 25\\u00b0 and moderate activity up to -25\\u00b0. With a center back length of 29\\u00bd\\\" (Tall 31\\\") and a slightly fitted design that falls at the hip, this jacket is made to move. It's crafted with premium 850 down for more warmth without the weight and treated with revolutionary DownTek that allows it to resist moisture and dry faster. The game-changing Pertex Quantum nylon shell is tightly woven to resist the elements. The jacket also features elastic cuffs, an internal stowaway pocket, external zip handwarmer pockets, media storage with headphone ports, and machine-washable fabric. Questions? Contact us for more information.\\nHuman: What collection is the Ultra-Lofty         850 Stretch Down Hooded Jacket from?\"\n",
      "  ]\n",
      "}\n",
      "\u001b[36;1m\u001b[1;3m[llm/end]\u001b[0m \u001b[1m[1:chain:RetrievalQA > 2:chain:StuffDocumentsChain > 3:chain:LLMChain > 4:llm:ChatOpenAI] [16.16ms] Exiting LLM run with output:\n",
      "\u001b[0m{\n",
      "  \"generations\": [\n",
      "    [\n",
      "      {\n",
      "        \"text\": \"The Ultra-Lofty 850 Stretch Down Hooded Jacket is from the DownTek collection.\",\n",
      "        \"generation_info\": null,\n",
      "        \"message\": {\n",
      "          \"content\": \"The Ultra-Lofty 850 Stretch Down Hooded Jacket is from the DownTek collection.\",\n",
      "          \"additional_kwargs\": {},\n",
      "          \"example\": false\n",
      "        }\n",
      "      }\n",
      "    ]\n",
      "  ],\n",
      "  \"llm_output\": {\n",
      "    \"token_usage\": {\n",
      "      \"prompt_tokens\": 791,\n",
      "      \"completion_tokens\": 19,\n",
      "      \"total_tokens\": 810\n",
      "    },\n",
      "    \"model_name\": \"gpt-3.5-turbo\"\n",
      "  }\n",
      "}\n",
      "\u001b[36;1m\u001b[1;3m[chain/end]\u001b[0m \u001b[1m[1:chain:RetrievalQA > 2:chain:StuffDocumentsChain > 3:chain:LLMChain] [16.945ms] Exiting Chain run with output:\n",
      "\u001b[0m{\n",
      "  \"text\": \"The Ultra-Lofty 850 Stretch Down Hooded Jacket is from the DownTek collection.\"\n",
      "}\n",
      "\u001b[36;1m\u001b[1;3m[chain/end]\u001b[0m \u001b[1m[1:chain:RetrievalQA > 2:chain:StuffDocumentsChain] [17.347ms] Exiting Chain run with output:\n",
      "\u001b[0m{\n",
      "  \"output_text\": \"The Ultra-Lofty 850 Stretch Down Hooded Jacket is from the DownTek collection.\"\n",
      "}\n",
      "\u001b[36;1m\u001b[1;3m[chain/end]\u001b[0m \u001b[1m[1:chain:RetrievalQA] [38.333ms] Exiting Chain run with output:\n",
      "\u001b[0m{\n",
      "  \"result\": \"The Ultra-Lofty 850 Stretch Down Hooded Jacket is from the DownTek collection.\"\n",
      "}\n",
      "\u001b[32;1m\u001b[1;3m[chain/start]\u001b[0m \u001b[1m[1:chain:RetrievalQA] Entering Chain run with input:\n",
      "\u001b[0m{\n",
      "  \"query\": \" What is the approximate weight of the Women's Campside Oxfords per pair?\\n\\n\",\n",
      "  \"answer\": \" The approximate weight of the Women's Campside Oxfords per pair is 1 lb. 1 oz.\"\n",
      "}\n",
      "\u001b[32;1m\u001b[1;3m[chain/start]\u001b[0m \u001b[1m[1:chain:RetrievalQA > 2:chain:StuffDocumentsChain] Entering Chain run with input:\n",
      "\u001b[0m[inputs]\n",
      "\u001b[32;1m\u001b[1;3m[chain/start]\u001b[0m \u001b[1m[1:chain:RetrievalQA > 2:chain:StuffDocumentsChain > 3:chain:LLMChain] Entering Chain run with input:\n",
      "\u001b[0m{\n",
      "  \"question\": \" What is the approximate weight of the Women's Campside Oxfords per pair?\\n\\n\",\n",
      "  \"context\": \": 0\\nname: Women's Campside Oxfords\\ndescription: This ultracomfortable lace-to-toe Oxford boasts a super-soft canvas, thick cushioning, and quality construction for a broken-in feel from the first time you put them on. \\n\\nSize & Fit: Order regular shoe size. For half sizes not offered, order up to next whole size. \\n\\nSpecs: Approx. weight: 1 lb.1 oz. per pair. \\n\\nConstruction: Soft canvas material for a broken-in feel and look. Comfortable EVA innersole with Cleansport NXT\\u00ae antimicrobial odor control. Vintage hunt, fish and camping motif on innersole. Moderate arch contour of innersole. EVA foam midsole for cushioning and support. Chain-tread-inspired molded rubber outsole with modified chain-tread pattern. Imported. \\n\\nQuestions? Please contact us for any inquiries.<<<<>>>>>: 45\\nname: Women's Oboz Sawtooth Trekking Shoes\\ndescription: These Oboz Sawtooth hiking shoes are the perfect combination of an athletic profile and heavy-duty tread, making them suitable for a walk in the park or tackling the most challenging trails. The ventilated design offers breathability and comfort in warm weather.\\n\\nSize & Fit: Order your regular shoe size.\\n\\nSpecs: Approx. weight: 1 lb. 8 oz.\\n\\nConstruction:\\n- New upper and panel mesh are softer and more breathable. \\n- Nubuck leather upper with abrasion-resistant synthetic panels. \\n- 3D molded heel counter helps shoes maintain a snug, comfortable heel hold over time. \\n- Dual-density EVA midsole provides supportive balanced cushioning. \\n- Nylon shank offers added support between heel and forefoot. \\n- Classic Oboz Sawtooth sole sheds mud and provides exceptional traction. \\n- Sidewall lugs grip off-camber trails while shaving weight. \\n- Low-density EVA pods provide cushioning and comfort. \\n- Imported.<<<<>>>>>: 846\\nname: Women's Katahdin Hiking Sneakers, Nubuck Mesh\\ndescription: These lightweight, breathable retro hikers are perfect for day hiking on gentle terrain or city streets. \\n\\nSize & Fit: Order regular shoe size. Size 10 1/2 wearers, order size 11.\\n\\nSpecs: Approx. Weight: 2 lb. 4 oz. per pair. Heel Height: 2\\u00bd\\\".\\n\\nConstruction: Upper is full-grain nubuck leather and polyester mesh. Polyester mesh lining with odor and moisture control. Removable, mesh-covered EVA insole. Moderate arch contour provides excellent support. Euro-hiker-inspired stacked EVA midsole. Our exclusive VertaGrip rubber lugged outsole for traction. Padded collar and tongue for comfort. Perforations in tongue and sides add breathability. Nylon webbing pull-on loop at back heel. Thermoplastic toe box and heel counter. Imported.\\n\\nQuestions? Contact customer service for more information.<<<<>>>>>: 238\\nname: Men's Rockport Reflection Oxfords\\ndescription: These Rockport casual shoes offer classic Oxford design with a luxurious feel and long-lasting quality. \\n\\nSize & Fit \\nAvailable in two widths. Fit best with midweight socks.\\n\\nConstruction\\nSoft full-grain leather comfortably conforms to your foot for a personalized fit. Padded, leather-lined tongue and quarters prevent chafing from exposed seams. Padded collar for ankle protection. Durable dual-density polyurethane outsole for sure-footed traction. Imported. \\n\\nQuestions? Please contact our customer service team for more information.\"\n",
      "}\n",
      "\u001b[32;1m\u001b[1;3m[llm/start]\u001b[0m \u001b[1m[1:chain:RetrievalQA > 2:chain:StuffDocumentsChain > 3:chain:LLMChain > 4:llm:ChatOpenAI] Entering LLM run with input:\n",
      "\u001b[0m{\n",
      "  \"prompts\": [\n",
      "    \"System: Use the following pieces of context to answer the users question. \\nIf you don't know the answer, just say that you don't know, don't try to make up an answer.\\n----------------\\n: 0\\nname: Women's Campside Oxfords\\ndescription: This ultracomfortable lace-to-toe Oxford boasts a super-soft canvas, thick cushioning, and quality construction for a broken-in feel from the first time you put them on. \\n\\nSize & Fit: Order regular shoe size. For half sizes not offered, order up to next whole size. \\n\\nSpecs: Approx. weight: 1 lb.1 oz. per pair. \\n\\nConstruction: Soft canvas material for a broken-in feel and look. Comfortable EVA innersole with Cleansport NXT\\u00ae antimicrobial odor control. Vintage hunt, fish and camping motif on innersole. Moderate arch contour of innersole. EVA foam midsole for cushioning and support. Chain-tread-inspired molded rubber outsole with modified chain-tread pattern. Imported. \\n\\nQuestions? Please contact us for any inquiries.<<<<>>>>>: 45\\nname: Women's Oboz Sawtooth Trekking Shoes\\ndescription: These Oboz Sawtooth hiking shoes are the perfect combination of an athletic profile and heavy-duty tread, making them suitable for a walk in the park or tackling the most challenging trails. The ventilated design offers breathability and comfort in warm weather.\\n\\nSize & Fit: Order your regular shoe size.\\n\\nSpecs: Approx. weight: 1 lb. 8 oz.\\n\\nConstruction:\\n- New upper and panel mesh are softer and more breathable. \\n- Nubuck leather upper with abrasion-resistant synthetic panels. \\n- 3D molded heel counter helps shoes maintain a snug, comfortable heel hold over time. \\n- Dual-density EVA midsole provides supportive balanced cushioning. \\n- Nylon shank offers added support between heel and forefoot. \\n- Classic Oboz Sawtooth sole sheds mud and provides exceptional traction. \\n- Sidewall lugs grip off-camber trails while shaving weight. \\n- Low-density EVA pods provide cushioning and comfort. \\n- Imported.<<<<>>>>>: 846\\nname: Women's Katahdin Hiking Sneakers, Nubuck Mesh\\ndescription: These lightweight, breathable retro hikers are perfect for day hiking on gentle terrain or city streets. \\n\\nSize & Fit: Order regular shoe size. Size 10 1/2 wearers, order size 11.\\n\\nSpecs: Approx. Weight: 2 lb. 4 oz. per pair. Heel Height: 2\\u00bd\\\".\\n\\nConstruction: Upper is full-grain nubuck leather and polyester mesh. Polyester mesh lining with odor and moisture control. Removable, mesh-covered EVA insole. Moderate arch contour provides excellent support. Euro-hiker-inspired stacked EVA midsole. Our exclusive VertaGrip rubber lugged outsole for traction. Padded collar and tongue for comfort. Perforations in tongue and sides add breathability. Nylon webbing pull-on loop at back heel. Thermoplastic toe box and heel counter. Imported.\\n\\nQuestions? Contact customer service for more information.<<<<>>>>>: 238\\nname: Men's Rockport Reflection Oxfords\\ndescription: These Rockport casual shoes offer classic Oxford design with a luxurious feel and long-lasting quality. \\n\\nSize & Fit \\nAvailable in two widths. Fit best with midweight socks.\\n\\nConstruction\\nSoft full-grain leather comfortably conforms to your foot for a personalized fit. Padded, leather-lined tongue and quarters prevent chafing from exposed seams. Padded collar for ankle protection. Durable dual-density polyurethane outsole for sure-footed traction. Imported. \\n\\nQuestions? Please contact our customer service team for more information.\\nHuman:  What is the approximate weight of the Women's Campside Oxfords per pair?\"\n",
      "  ]\n",
      "}\n",
      "\u001b[36;1m\u001b[1;3m[llm/end]\u001b[0m \u001b[1m[1:chain:RetrievalQA > 2:chain:StuffDocumentsChain > 3:chain:LLMChain > 4:llm:ChatOpenAI] [16.351000000000003ms] Exiting LLM run with output:\n",
      "\u001b[0m{\n",
      "  \"generations\": [\n",
      "    [\n",
      "      {\n",
      "        \"text\": \"The approximate weight of the Women's Campside Oxfords per pair is 1 lb. 1 oz.\",\n",
      "        \"generation_info\": null,\n",
      "        \"message\": {\n",
      "          \"content\": \"The approximate weight of the Women's Campside Oxfords per pair is 1 lb. 1 oz.\",\n",
      "          \"additional_kwargs\": {},\n",
      "          \"example\": false\n",
      "        }\n",
      "      }\n",
      "    ]\n",
      "  ],\n",
      "  \"llm_output\": {\n",
      "    \"token_usage\": {\n",
      "      \"prompt_tokens\": 809,\n",
      "      \"completion_tokens\": 23,\n",
      "      \"total_tokens\": 832\n",
      "    },\n",
      "    \"model_name\": \"gpt-3.5-turbo\"\n",
      "  }\n",
      "}\n",
      "\u001b[36;1m\u001b[1;3m[chain/end]\u001b[0m \u001b[1m[1:chain:RetrievalQA > 2:chain:StuffDocumentsChain > 3:chain:LLMChain] [16.846ms] Exiting Chain run with output:\n",
      "\u001b[0m{\n",
      "  \"text\": \"The approximate weight of the Women's Campside Oxfords per pair is 1 lb. 1 oz.\"\n",
      "}\n",
      "\u001b[36;1m\u001b[1;3m[chain/end]\u001b[0m \u001b[1m[1:chain:RetrievalQA > 2:chain:StuffDocumentsChain] [17.257ms] Exiting Chain run with output:\n",
      "\u001b[0m{\n",
      "  \"output_text\": \"The approximate weight of the Women's Campside Oxfords per pair is 1 lb. 1 oz.\"\n",
      "}\n",
      "\u001b[36;1m\u001b[1;3m[chain/end]\u001b[0m \u001b[1m[1:chain:RetrievalQA] [37.955999999999996ms] Exiting Chain run with output:\n",
      "\u001b[0m{\n",
      "  \"result\": \"The approximate weight of the Women's Campside Oxfords per pair is 1 lb. 1 oz.\"\n",
      "}\n",
      "\u001b[32;1m\u001b[1;3m[chain/start]\u001b[0m \u001b[1m[1:chain:RetrievalQA] Entering Chain run with input:\n",
      "\u001b[0m{\n",
      "  \"query\": \" What are the dimensions of the small and medium sizes of the Recycled Waterhog Dog Mat, Chevron Weave?\\n\\n\",\n",
      "  \"answer\": \" The small size has dimensions of 18\\\" x 28\\\" and the medium size has dimensions of 22.5\\\" x 34.5\\\".\"\n",
      "}\n",
      "\u001b[32;1m\u001b[1;3m[chain/start]\u001b[0m \u001b[1m[1:chain:RetrievalQA > 2:chain:StuffDocumentsChain] Entering Chain run with input:\n",
      "\u001b[0m[inputs]\n",
      "\u001b[32;1m\u001b[1;3m[chain/start]\u001b[0m \u001b[1m[1:chain:RetrievalQA > 2:chain:StuffDocumentsChain > 3:chain:LLMChain] Entering Chain run with input:\n",
      "\u001b[0m{\n",
      "  \"question\": \" What are the dimensions of the small and medium sizes of the Recycled Waterhog Dog Mat, Chevron Weave?\\n\\n\",\n",
      "  \"context\": \": 1\\nname: Recycled Waterhog Dog Mat, Chevron Weave\\ndescription: Protect your floors from spills and splashing with our ultradurable recycled Waterhog dog mat made right here in the USA. \\n\\nSpecs\\nSmall - Dimensions: 18\\\" x 28\\\". \\nMedium - Dimensions: 22.5\\\" x 34.5\\\".\\n\\nWhy We Love It\\nMother nature, wet shoes and muddy paws have met their match with our Recycled Waterhog mats. Ruggedly constructed from recycled plastic materials, these ultratough mats help keep dirt and water off your floors and plastic out of landfills, trails and oceans. Now, that's a win-win for everyone.\\n\\nFabric & Care\\nVacuum or hose clean.\\n\\nConstruction\\n24 oz. polyester fabric made from 94% recycled materials.\\nRubber backing.\\n\\nAdditional Features\\nFeatures an -exclusive design.\\nFeatures thick and thin fibers for scraping dirt and absorbing water.\\nDries quickly and resists fading, rotting, mildew and shedding.\\nUse indoors or out.\\nMade in the USA.<<<<>>>>>: 27\\nname: Doggy Den Pad\\ndescription: Keep your dog comfortable on the go with our dog kennel pad that features a water-resistant polyester cover and a 2\\\" foam that insulates from the cold kennel floor. Specs: Intermediate: Dimensions: 17\\\" x 26\\\". Large: Dimensions: 18\\\" x 30\\\". Extra-Large: Dimensions: 22\\\" x 33\\\". Construction: Polyester cover and foam. Imported. If you have any questions, please contact us.<<<<>>>>>: 111\\nname: Customized Canine Collar\\ndescription: Make sure your pet can be easily identified with our personalized dog leash. \\n\\nSpecs: \\nDimensions: 6' x 5/8\\\". \\nDimensions: 6' x 1\\\". \\n\\nConstruction:\\nDurable nylon webbing.\\nMetal swivel clip.\\n\\nAdditional Features:\\nPersonalize up to 23 characters, including spaces.\\nNote: for words like \\u201cMcCosh\\u201d with a capital letter in other than first position, please contact us. \\nMade in USA.\\n\\nQuestions? Please contact us.<<<<>>>>>: 453\\nname: PupPal Striped Dog Bed\\ndescription: Our Sunbrella performance fabric dog beds are perfect for any place - from the park to the bedroom, from the porch to the backyard. The ultra-durable fabric resists water, stains, chlorine, fading, mold, and mildew, so you can feel confident that your pup's bed will look great inside and outside. \\n\\nSpecs\\nMedium\\nDimensions: 36\\\"L x 28\\\"W x 4\\\"H.\\nFor dogs: 25 to 60 lb.\\n\\nLarge\\nDimensions: 44\\\"L x 34\\\"W x 5\\\"H.\\nFor dog: 60 to 90 lb.\\n\\nFabric & Care\\nMachine wash, line dry.\\n\\nConstruction\\nCover is made from soft, fade-resistant Sunbrella fabric.\\nInsert is made from quick-drying densified polyester fill.\\n\\nAdditional Features\\nStriped Sunbrella cover is an  exclusive.\\nSpecially designed for indoor and outdoor use, ensuring more comfort and less worry.\\nCover coordinates with our Casco Bay Outdoor Cushions, sold separately.\\nCover fabric is made in USA; sewn and finished abroad.\\nInsert is made in USA.\\n\\nQuestions?\\nFeel\"\n",
      "}\n",
      "\u001b[32;1m\u001b[1;3m[llm/start]\u001b[0m \u001b[1m[1:chain:RetrievalQA > 2:chain:StuffDocumentsChain > 3:chain:LLMChain > 4:llm:ChatOpenAI] Entering LLM run with input:\n",
      "\u001b[0m{\n",
      "  \"prompts\": [\n",
      "    \"System: Use the following pieces of context to answer the users question. \\nIf you don't know the answer, just say that you don't know, don't try to make up an answer.\\n----------------\\n: 1\\nname: Recycled Waterhog Dog Mat, Chevron Weave\\ndescription: Protect your floors from spills and splashing with our ultradurable recycled Waterhog dog mat made right here in the USA. \\n\\nSpecs\\nSmall - Dimensions: 18\\\" x 28\\\". \\nMedium - Dimensions: 22.5\\\" x 34.5\\\".\\n\\nWhy We Love It\\nMother nature, wet shoes and muddy paws have met their match with our Recycled Waterhog mats. Ruggedly constructed from recycled plastic materials, these ultratough mats help keep dirt and water off your floors and plastic out of landfills, trails and oceans. Now, that's a win-win for everyone.\\n\\nFabric & Care\\nVacuum or hose clean.\\n\\nConstruction\\n24 oz. polyester fabric made from 94% recycled materials.\\nRubber backing.\\n\\nAdditional Features\\nFeatures an -exclusive design.\\nFeatures thick and thin fibers for scraping dirt and absorbing water.\\nDries quickly and resists fading, rotting, mildew and shedding.\\nUse indoors or out.\\nMade in the USA.<<<<>>>>>: 27\\nname: Doggy Den Pad\\ndescription: Keep your dog comfortable on the go with our dog kennel pad that features a water-resistant polyester cover and a 2\\\" foam that insulates from the cold kennel floor. Specs: Intermediate: Dimensions: 17\\\" x 26\\\". Large: Dimensions: 18\\\" x 30\\\". Extra-Large: Dimensions: 22\\\" x 33\\\". Construction: Polyester cover and foam. Imported. If you have any questions, please contact us.<<<<>>>>>: 111\\nname: Customized Canine Collar\\ndescription: Make sure your pet can be easily identified with our personalized dog leash. \\n\\nSpecs: \\nDimensions: 6' x 5/8\\\". \\nDimensions: 6' x 1\\\". \\n\\nConstruction:\\nDurable nylon webbing.\\nMetal swivel clip.\\n\\nAdditional Features:\\nPersonalize up to 23 characters, including spaces.\\nNote: for words like \\u201cMcCosh\\u201d with a capital letter in other than first position, please contact us. \\nMade in USA.\\n\\nQuestions? Please contact us.<<<<>>>>>: 453\\nname: PupPal Striped Dog Bed\\ndescription: Our Sunbrella performance fabric dog beds are perfect for any place - from the park to the bedroom, from the porch to the backyard. The ultra-durable fabric resists water, stains, chlorine, fading, mold, and mildew, so you can feel confident that your pup's bed will look great inside and outside. \\n\\nSpecs\\nMedium\\nDimensions: 36\\\"L x 28\\\"W x 4\\\"H.\\nFor dogs: 25 to 60 lb.\\n\\nLarge\\nDimensions: 44\\\"L x 34\\\"W x 5\\\"H.\\nFor dog: 60 to 90 lb.\\n\\nFabric & Care\\nMachine wash, line dry.\\n\\nConstruction\\nCover is made from soft, fade-resistant Sunbrella fabric.\\nInsert is made from quick-drying densified polyester fill.\\n\\nAdditional Features\\nStriped Sunbrella cover is an  exclusive.\\nSpecially designed for indoor and outdoor use, ensuring more comfort and less worry.\\nCover coordinates with our Casco Bay Outdoor Cushions, sold separately.\\nCover fabric is made in USA; sewn and finished abroad.\\nInsert is made in USA.\\n\\nQuestions?\\nFeel\\nHuman:  What are the dimensions of the small and medium sizes of the Recycled Waterhog Dog Mat, Chevron Weave?\"\n",
      "  ]\n",
      "}\n",
      "\u001b[36;1m\u001b[1;3m[llm/end]\u001b[0m \u001b[1m[1:chain:RetrievalQA > 2:chain:StuffDocumentsChain > 3:chain:LLMChain > 4:llm:ChatOpenAI] [16.869ms] Exiting LLM run with output:\n",
      "\u001b[0m{\n",
      "  \"generations\": [\n",
      "    [\n",
      "      {\n",
      "        \"text\": \"The dimensions of the small size of the Recycled Waterhog Dog Mat, Chevron Weave are 18\\\" x 28\\\", and the dimensions of the medium size are 22.5\\\" x 34.5\\\".\",\n",
      "        \"generation_info\": null,\n",
      "        \"message\": {\n",
      "          \"content\": \"The dimensions of the small size of the Recycled Waterhog Dog Mat, Chevron Weave are 18\\\" x 28\\\", and the dimensions of the medium size are 22.5\\\" x 34.5\\\".\",\n",
      "          \"additional_kwargs\": {},\n",
      "          \"example\": false\n",
      "        }\n",
      "      }\n",
      "    ]\n",
      "  ],\n",
      "  \"llm_output\": {\n",
      "    \"token_usage\": {\n",
      "      \"prompt_tokens\": 763,\n",
      "      \"completion_tokens\": 45,\n",
      "      \"total_tokens\": 808\n",
      "    },\n",
      "    \"model_name\": \"gpt-3.5-turbo\"\n",
      "  }\n",
      "}\n",
      "\u001b[36;1m\u001b[1;3m[chain/end]\u001b[0m \u001b[1m[1:chain:RetrievalQA > 2:chain:StuffDocumentsChain > 3:chain:LLMChain] [18.275ms] Exiting Chain run with output:\n",
      "\u001b[0m{\n",
      "  \"text\": \"The dimensions of the small size of the Recycled Waterhog Dog Mat, Chevron Weave are 18\\\" x 28\\\", and the dimensions of the medium size are 22.5\\\" x 34.5\\\".\"\n",
      "}\n",
      "\u001b[36;1m\u001b[1;3m[chain/end]\u001b[0m \u001b[1m[1:chain:RetrievalQA > 2:chain:StuffDocumentsChain] [18.691ms] Exiting Chain run with output:\n",
      "\u001b[0m{\n",
      "  \"output_text\": \"The dimensions of the small size of the Recycled Waterhog Dog Mat, Chevron Weave are 18\\\" x 28\\\", and the dimensions of the medium size are 22.5\\\" x 34.5\\\".\"\n",
      "}\n",
      "\u001b[36;1m\u001b[1;3m[chain/end]\u001b[0m \u001b[1m[1:chain:RetrievalQA] [44.018ms] Exiting Chain run with output:\n",
      "\u001b[0m{\n",
      "  \"result\": \"The dimensions of the small size of the Recycled Waterhog Dog Mat, Chevron Weave are 18\\\" x 28\\\", and the dimensions of the medium size are 22.5\\\" x 34.5\\\".\"\n",
      "}\n",
      "\u001b[32;1m\u001b[1;3m[chain/start]\u001b[0m \u001b[1m[1:chain:RetrievalQA] Entering Chain run with input:\n",
      "\u001b[0m{\n",
      "  \"query\": \" What are some key features of the Infant and Toddler Girls' Coastal Chill Swimsuit, Two-Piece as described in the document?\\n\\n\",\n",
      "  \"answer\": \" The key features of the Infant and Toddler Girls' Coastal Chill Swimsuit, Two-Piece include bright colors, ruffles, exclusive whimsical prints, four-way-stretch and chlorine-resistant fabric, UPF 50+ rated fabric for sun protection, crossover no-slip straps, fully lined bottom for secure fit and maximum coverage.\"\n",
      "}\n",
      "\u001b[32;1m\u001b[1;3m[chain/start]\u001b[0m \u001b[1m[1:chain:RetrievalQA > 2:chain:StuffDocumentsChain] Entering Chain run with input:\n",
      "\u001b[0m[inputs]\n",
      "\u001b[32;1m\u001b[1;3m[chain/start]\u001b[0m \u001b[1m[1:chain:RetrievalQA > 2:chain:StuffDocumentsChain > 3:chain:LLMChain] Entering Chain run with input:\n",
      "\u001b[0m{\n",
      "  \"question\": \" What are some key features of the Infant and Toddler Girls' Coastal Chill Swimsuit, Two-Piece as described in the document?\\n\\n\",\n",
      "  \"context\": \": 2\\nname: Infant and Toddler Girls' Coastal Chill Swimsuit, Two-Piece\\ndescription: She'll love the bright colors, ruffles and exclusive whimsical prints of this toddler's two-piece swimsuit! Our four-way-stretch and chlorine-resistant fabric keeps its shape and resists snags. The UPF 50+ rated fabric provides the highest rated sun protection possible, blocking 98% of the sun's harmful rays. The crossover no-slip straps and fully lined bottom ensure a secure fit and maximum coverage. Machine wash and line dry for best results. Imported.<<<<>>>>>: 769\\nname: Girls' Aquatic Adventure Swimsuit, One-piece, Long Sleeve, Colorblock\\ndescription: Whether it's relaxing on the beach or paddling on the water, this long-sleeved, UPF 50+ rated girls' swimsuit makes it easy to focus on the fun. Fabric & Care: 78% recycled nylon, 22% Xtra Life Lycra. Machine wash, line dry. Additional Features: UPF 50+ rated, the highest rated sun protection possible. Made from recycled content from fishing nets to help minimize our environmental impact. Long sleeves offers great coverage; no need to layer on a rash guard. Breathable and quick drying, with comfortable stretch for great freedom of movement. Front zipper for easy on-off, even when wet. Imported.<<<<>>>>>: 870\\nname: Girls' Splashy Splash Rashguard Bikini, Print\\ndescription: Offering coverage and comfort for paddleboarding, kayaking or jumping off docks, this two-piece swimsuit features the protection of a rashguard and fun styling girls love from our BartSport swimwear. Fabric & Care: 80% nylon, 20% Lycra Xtra Life; Lining is 95% polyester, 5% spandex. Machine wash, line dry. Construction: Short-sleeve rashguard top has cool styling with contrast side panels and curved princess seams. Fully lined matching bikini bottom offers great coverage. Additional Features: UPF 50+ sun protection; The Skin Cancer Foundation recommends this fabric as an effective UV protectant; Fade and snag resistant to keep its good looks; Imported.<<<<>>>>>: 285\\nname: Beach Babe Reversible Swimsuit\\ndescription: Designed to stay put, this sporty swimsuit is ideal for girls who love to play hard in and around the water. Plus, the reversible design gives her two options in one. Fabric & Care: 86% nylon, 14% Lycra. UPF 50+ rated \\u2013 the highest rated sun protection possible. Solid on one side, colorblock on the other. Back tie lets her find the perfect fit. Machine wash, line dry. Imported. Additional Features: Our high-performance fabric provides SPF 50+ sun protection, blocking 98% of the sun's harmful rays. This fabric is recommended by The Skin Cancer Foundation as an effective UV protectant.\"\n",
      "}\n",
      "\u001b[32;1m\u001b[1;3m[llm/start]\u001b[0m \u001b[1m[1:chain:RetrievalQA > 2:chain:StuffDocumentsChain > 3:chain:LLMChain > 4:llm:ChatOpenAI] Entering LLM run with input:\n",
      "\u001b[0m{\n",
      "  \"prompts\": [\n",
      "    \"System: Use the following pieces of context to answer the users question. \\nIf you don't know the answer, just say that you don't know, don't try to make up an answer.\\n----------------\\n: 2\\nname: Infant and Toddler Girls' Coastal Chill Swimsuit, Two-Piece\\ndescription: She'll love the bright colors, ruffles and exclusive whimsical prints of this toddler's two-piece swimsuit! Our four-way-stretch and chlorine-resistant fabric keeps its shape and resists snags. The UPF 50+ rated fabric provides the highest rated sun protection possible, blocking 98% of the sun's harmful rays. The crossover no-slip straps and fully lined bottom ensure a secure fit and maximum coverage. Machine wash and line dry for best results. Imported.<<<<>>>>>: 769\\nname: Girls' Aquatic Adventure Swimsuit, One-piece, Long Sleeve, Colorblock\\ndescription: Whether it's relaxing on the beach or paddling on the water, this long-sleeved, UPF 50+ rated girls' swimsuit makes it easy to focus on the fun. Fabric & Care: 78% recycled nylon, 22% Xtra Life Lycra. Machine wash, line dry. Additional Features: UPF 50+ rated, the highest rated sun protection possible. Made from recycled content from fishing nets to help minimize our environmental impact. Long sleeves offers great coverage; no need to layer on a rash guard. Breathable and quick drying, with comfortable stretch for great freedom of movement. Front zipper for easy on-off, even when wet. Imported.<<<<>>>>>: 870\\nname: Girls' Splashy Splash Rashguard Bikini, Print\\ndescription: Offering coverage and comfort for paddleboarding, kayaking or jumping off docks, this two-piece swimsuit features the protection of a rashguard and fun styling girls love from our BartSport swimwear. Fabric & Care: 80% nylon, 20% Lycra Xtra Life; Lining is 95% polyester, 5% spandex. Machine wash, line dry. Construction: Short-sleeve rashguard top has cool styling with contrast side panels and curved princess seams. Fully lined matching bikini bottom offers great coverage. Additional Features: UPF 50+ sun protection; The Skin Cancer Foundation recommends this fabric as an effective UV protectant; Fade and snag resistant to keep its good looks; Imported.<<<<>>>>>: 285\\nname: Beach Babe Reversible Swimsuit\\ndescription: Designed to stay put, this sporty swimsuit is ideal for girls who love to play hard in and around the water. Plus, the reversible design gives her two options in one. Fabric & Care: 86% nylon, 14% Lycra. UPF 50+ rated \\u2013 the highest rated sun protection possible. Solid on one side, colorblock on the other. Back tie lets her find the perfect fit. Machine wash, line dry. Imported. Additional Features: Our high-performance fabric provides SPF 50+ sun protection, blocking 98% of the sun's harmful rays. This fabric is recommended by The Skin Cancer Foundation as an effective UV protectant.\\nHuman:  What are some key features of the Infant and Toddler Girls' Coastal Chill Swimsuit, Two-Piece as described in the document?\"\n",
      "  ]\n",
      "}\n",
      "\u001b[36;1m\u001b[1;3m[llm/end]\u001b[0m \u001b[1m[1:chain:RetrievalQA > 2:chain:StuffDocumentsChain > 3:chain:LLMChain > 4:llm:ChatOpenAI] [13.495999999999999ms] Exiting LLM run with output:\n",
      "\u001b[0m{\n",
      "  \"generations\": [\n",
      "    [\n",
      "      {\n",
      "        \"text\": \"Some key features of the Infant and Toddler Girls' Coastal Chill Swimsuit, Two-Piece are:\\n- Bright colors, ruffles, and exclusive whimsical prints\\n- Four-way-stretch and chlorine-resistant fabric\\n- UPF 50+ rated fabric for high sun protection\\n- Crossover no-slip straps for a secure fit\\n- Fully lined bottom for maximum coverage\\n- Machine washable and line dry for best results\",\n",
      "        \"generation_info\": null,\n",
      "        \"message\": {\n",
      "          \"content\": \"Some key features of the Infant and Toddler Girls' Coastal Chill Swimsuit, Two-Piece are:\\n- Bright colors, ruffles, and exclusive whimsical prints\\n- Four-way-stretch and chlorine-resistant fabric\\n- UPF 50+ rated fabric for high sun protection\\n- Crossover no-slip straps for a secure fit\\n- Fully lined bottom for maximum coverage\\n- Machine washable and line dry for best results\",\n",
      "          \"additional_kwargs\": {},\n",
      "          \"example\": false\n",
      "        }\n",
      "      }\n",
      "    ]\n",
      "  ],\n",
      "  \"llm_output\": {\n",
      "    \"token_usage\": {\n",
      "      \"prompt_tokens\": 689,\n",
      "      \"completion_tokens\": 88,\n",
      "      \"total_tokens\": 777\n",
      "    },\n",
      "    \"model_name\": \"gpt-3.5-turbo\"\n",
      "  }\n",
      "}\n",
      "\u001b[36;1m\u001b[1;3m[chain/end]\u001b[0m \u001b[1m[1:chain:RetrievalQA > 2:chain:StuffDocumentsChain > 3:chain:LLMChain] [14.002ms] Exiting Chain run with output:\n",
      "\u001b[0m{\n",
      "  \"text\": \"Some key features of the Infant and Toddler Girls' Coastal Chill Swimsuit, Two-Piece are:\\n- Bright colors, ruffles, and exclusive whimsical prints\\n- Four-way-stretch and chlorine-resistant fabric\\n- UPF 50+ rated fabric for high sun protection\\n- Crossover no-slip straps for a secure fit\\n- Fully lined bottom for maximum coverage\\n- Machine washable and line dry for best results\"\n",
      "}\n",
      "\u001b[36;1m\u001b[1;3m[chain/end]\u001b[0m \u001b[1m[1:chain:RetrievalQA > 2:chain:StuffDocumentsChain] [14.543000000000001ms] Exiting Chain run with output:\n",
      "\u001b[0m{\n",
      "  \"output_text\": \"Some key features of the Infant and Toddler Girls' Coastal Chill Swimsuit, Two-Piece are:\\n- Bright colors, ruffles, and exclusive whimsical prints\\n- Four-way-stretch and chlorine-resistant fabric\\n- UPF 50+ rated fabric for high sun protection\\n- Crossover no-slip straps for a secure fit\\n- Fully lined bottom for maximum coverage\\n- Machine washable and line dry for best results\"\n",
      "}\n",
      "\u001b[36;1m\u001b[1;3m[chain/end]\u001b[0m \u001b[1m[1:chain:RetrievalQA] [33.11ms] Exiting Chain run with output:\n",
      "\u001b[0m{\n",
      "  \"result\": \"Some key features of the Infant and Toddler Girls' Coastal Chill Swimsuit, Two-Piece are:\\n- Bright colors, ruffles, and exclusive whimsical prints\\n- Four-way-stretch and chlorine-resistant fabric\\n- UPF 50+ rated fabric for high sun protection\\n- Crossover no-slip straps for a secure fit\\n- Fully lined bottom for maximum coverage\\n- Machine washable and line dry for best results\"\n",
      "}\n",
      "\u001b[32;1m\u001b[1;3m[chain/start]\u001b[0m \u001b[1m[1:chain:RetrievalQA] Entering Chain run with input:\n",
      "\u001b[0m{\n",
      "  \"query\": \" What is the fabric composition of the Refresh Swimwear V-Neck Tankini Contrasts?\\n\\n\",\n",
      "  \"answer\": \" The body of the tankini top is made of 82% recycled nylon and 18% Lycra\\u00ae spandex, while the lining is made of 90% recycled nylon and 10% Lycra\\u00ae spandex.\"\n",
      "}\n"
     ]
    },
    {
     "name": "stdout",
     "output_type": "stream",
     "text": [
      "\u001b[32;1m\u001b[1;3m[chain/start]\u001b[0m \u001b[1m[1:chain:RetrievalQA > 2:chain:StuffDocumentsChain] Entering Chain run with input:\n",
      "\u001b[0m[inputs]\n",
      "\u001b[32;1m\u001b[1;3m[chain/start]\u001b[0m \u001b[1m[1:chain:RetrievalQA > 2:chain:StuffDocumentsChain > 3:chain:LLMChain] Entering Chain run with input:\n",
      "\u001b[0m{\n",
      "  \"question\": \" What is the fabric composition of the Refresh Swimwear V-Neck Tankini Contrasts?\\n\\n\",\n",
      "  \"context\": \": 3\\nname: Refresh Swimwear, V-Neck Tankini Contrasts\\ndescription: Whether you're going for a swim or heading out on an SUP, this watersport-ready tankini top is designed to move with you and stay comfortable. All while looking great in an eye-catching colorblock style. \\n\\nSize & Fit\\nFitted: Sits close to the body.\\n\\nWhy We Love It\\nNot only does this swimtop feel good to wear, its fabric is good for the earth too. In recycled nylon, with Lycra\\u00ae spandex for the perfect amount of stretch. \\n\\nFabric & Care\\nThe premium Italian-blend is breathable, quick drying and abrasion resistant. \\nBody in 82% recycled nylon with 18% Lycra\\u00ae spandex. \\nLined in 90% recycled nylon with 10% Lycra\\u00ae spandex. \\nUPF 50+ rated \\u2013 the highest rated sun protection possible. \\nHandwash, line dry.\\n\\nAdditional Features\\nLightweight racerback straps are easy to get on and off, and won't get in your way. \\nFlattering V-neck silhouette. \\nImported.\\n\\nSun Protection That Won't Wear Off\\nOur high-performance fabric provides SPF<<<<>>>>>: 472\\nname: Renew Refresh Swimwear, V-Neck Tankini Print\\ndescription: This watersport tankini top is designed with an eco-friendly fabric and ready-for-anything design to make a splash. The colorful, eye-catching print adds a stylish look. With a fitted design that sits close to the body, this swim top is made from recycled nylon with Lycra\\u00ae spandex for a comfortable fit that moves with you. Breathable, quick drying and abrasion resistant, the premium Italian-blend is UPF 50+ rated, the highest rated sun protection possible. The lightweight racerback straps make it easy to get on and off and the flattering V-neck silhouette adds a flattering touch. Recommended by The Skin Cancer Foundation, this fabric is an effective UV protectant. Handwash and line dry. Imported.<<<<>>>>>: 793\\nname: Mix-It-Up Tankini Print\\ndescription: This feminine squareneck bathing suit top features beautiful prints and a flattering design for a look that will pair well with all your favorite swim bottoms. Our Mix-and-Match swim collection is designed to make finding your perfect swimsuit easy, with so many incredible options to choose from. The fabric is made from 80% nylon and 20% Lycra\\u00ae Xtra Life, providing long-lasting fit and resistance to sun, chlorine, and heat up to 10 times longer than unprotected fabrics. The lining is made from 84% nylon and 16% Lycra Elastane for UPF 50+ rated sun protection. Breathable, quick-drying Italian swim fabric holds its shape, and is chlorine-resistant for stay-true color. Adjustable straps and a feminine square neckline provide extra coverage. Handwash and line dry to keep it looking its best. This fabric is recommended by The Skin Cancer Foundation as an effective UV protectant.<<<<>>>>>: 153\\nname: SplashSport Watercolor Tankini Top\\ndescription: Made of breathable, quick-drying premium Italian fabric, our women's watercolor print scoopneck tankini top will look great and feel comfortable all day in the sun and surf.\\n\\nSize & Fit\\nSoft-cup bra. Falls at hip.\\n\\nFabric & Care\\n80% nylon, 20% Lycra Xtra Life fiber. Lycra Xtra Life provides long-lasting fit. It resists degradation from sun, chlorine and heat up to 10 times longer than unprotected fabrics. Full front lining: 95% polyester, 5% spandex. UPF 50+ rated \\u2013 the highest rated sun protection possible. Handwash, line dry.\\n\\nAdditional Features\\nStretchy fabric is quick drying, breathable and chlorine resistant. Mix and match BartSport Swim Separates to create the perfect suit. Imported.\\n\\nSun Protection That Won't Wear Off\\nOur high-performance fabric provides SPF 50+ sun protection, blocking 98% of the sun's harmful rays. This fabric is recommended by The Skin Cancer Foundation as an effective UV protectant.\"\n",
      "}\n",
      "\u001b[32;1m\u001b[1;3m[llm/start]\u001b[0m \u001b[1m[1:chain:RetrievalQA > 2:chain:StuffDocumentsChain > 3:chain:LLMChain > 4:llm:ChatOpenAI] Entering LLM run with input:\n",
      "\u001b[0m{\n",
      "  \"prompts\": [\n",
      "    \"System: Use the following pieces of context to answer the users question. \\nIf you don't know the answer, just say that you don't know, don't try to make up an answer.\\n----------------\\n: 3\\nname: Refresh Swimwear, V-Neck Tankini Contrasts\\ndescription: Whether you're going for a swim or heading out on an SUP, this watersport-ready tankini top is designed to move with you and stay comfortable. All while looking great in an eye-catching colorblock style. \\n\\nSize & Fit\\nFitted: Sits close to the body.\\n\\nWhy We Love It\\nNot only does this swimtop feel good to wear, its fabric is good for the earth too. In recycled nylon, with Lycra\\u00ae spandex for the perfect amount of stretch. \\n\\nFabric & Care\\nThe premium Italian-blend is breathable, quick drying and abrasion resistant. \\nBody in 82% recycled nylon with 18% Lycra\\u00ae spandex. \\nLined in 90% recycled nylon with 10% Lycra\\u00ae spandex. \\nUPF 50+ rated \\u2013 the highest rated sun protection possible. \\nHandwash, line dry.\\n\\nAdditional Features\\nLightweight racerback straps are easy to get on and off, and won't get in your way. \\nFlattering V-neck silhouette. \\nImported.\\n\\nSun Protection That Won't Wear Off\\nOur high-performance fabric provides SPF<<<<>>>>>: 472\\nname: Renew Refresh Swimwear, V-Neck Tankini Print\\ndescription: This watersport tankini top is designed with an eco-friendly fabric and ready-for-anything design to make a splash. The colorful, eye-catching print adds a stylish look. With a fitted design that sits close to the body, this swim top is made from recycled nylon with Lycra\\u00ae spandex for a comfortable fit that moves with you. Breathable, quick drying and abrasion resistant, the premium Italian-blend is UPF 50+ rated, the highest rated sun protection possible. The lightweight racerback straps make it easy to get on and off and the flattering V-neck silhouette adds a flattering touch. Recommended by The Skin Cancer Foundation, this fabric is an effective UV protectant. Handwash and line dry. Imported.<<<<>>>>>: 793\\nname: Mix-It-Up Tankini Print\\ndescription: This feminine squareneck bathing suit top features beautiful prints and a flattering design for a look that will pair well with all your favorite swim bottoms. Our Mix-and-Match swim collection is designed to make finding your perfect swimsuit easy, with so many incredible options to choose from. The fabric is made from 80% nylon and 20% Lycra\\u00ae Xtra Life, providing long-lasting fit and resistance to sun, chlorine, and heat up to 10 times longer than unprotected fabrics. The lining is made from 84% nylon and 16% Lycra Elastane for UPF 50+ rated sun protection. Breathable, quick-drying Italian swim fabric holds its shape, and is chlorine-resistant for stay-true color. Adjustable straps and a feminine square neckline provide extra coverage. Handwash and line dry to keep it looking its best. This fabric is recommended by The Skin Cancer Foundation as an effective UV protectant.<<<<>>>>>: 153\\nname: SplashSport Watercolor Tankini Top\\ndescription: Made of breathable, quick-drying premium Italian fabric, our women's watercolor print scoopneck tankini top will look great and feel comfortable all day in the sun and surf.\\n\\nSize & Fit\\nSoft-cup bra. Falls at hip.\\n\\nFabric & Care\\n80% nylon, 20% Lycra Xtra Life fiber. Lycra Xtra Life provides long-lasting fit. It resists degradation from sun, chlorine and heat up to 10 times longer than unprotected fabrics. Full front lining: 95% polyester, 5% spandex. UPF 50+ rated \\u2013 the highest rated sun protection possible. Handwash, line dry.\\n\\nAdditional Features\\nStretchy fabric is quick drying, breathable and chlorine resistant. Mix and match BartSport Swim Separates to create the perfect suit. Imported.\\n\\nSun Protection That Won't Wear Off\\nOur high-performance fabric provides SPF 50+ sun protection, blocking 98% of the sun's harmful rays. This fabric is recommended by The Skin Cancer Foundation as an effective UV protectant.\\nHuman:  What is the fabric composition of the Refresh Swimwear V-Neck Tankini Contrasts?\"\n",
      "  ]\n",
      "}\n",
      "\u001b[36;1m\u001b[1;3m[llm/end]\u001b[0m \u001b[1m[1:chain:RetrievalQA > 2:chain:StuffDocumentsChain > 3:chain:LLMChain > 4:llm:ChatOpenAI] [14.706999999999999ms] Exiting LLM run with output:\n",
      "\u001b[0m{\n",
      "  \"generations\": [\n",
      "    [\n",
      "      {\n",
      "        \"text\": \"The fabric composition of the Refresh Swimwear V-Neck Tankini Contrasts is as follows:\\n- Body: 82% recycled nylon, 18% Lycra\\u00ae spandex\\n- Lining: 90% recycled nylon, 10% Lycra\\u00ae spandex\",\n",
      "        \"generation_info\": null,\n",
      "        \"message\": {\n",
      "          \"content\": \"The fabric composition of the Refresh Swimwear V-Neck Tankini Contrasts is as follows:\\n- Body: 82% recycled nylon, 18% Lycra\\u00ae spandex\\n- Lining: 90% recycled nylon, 10% Lycra\\u00ae spandex\",\n",
      "          \"additional_kwargs\": {},\n",
      "          \"example\": false\n",
      "        }\n",
      "      }\n",
      "    ]\n",
      "  ],\n",
      "  \"llm_output\": {\n",
      "    \"token_usage\": {\n",
      "      \"prompt_tokens\": 931,\n",
      "      \"completion_tokens\": 58,\n",
      "      \"total_tokens\": 989\n",
      "    },\n",
      "    \"model_name\": \"gpt-3.5-turbo\"\n",
      "  }\n",
      "}\n",
      "\u001b[36;1m\u001b[1;3m[chain/end]\u001b[0m \u001b[1m[1:chain:RetrievalQA > 2:chain:StuffDocumentsChain > 3:chain:LLMChain] [15.198ms] Exiting Chain run with output:\n",
      "\u001b[0m{\n",
      "  \"text\": \"The fabric composition of the Refresh Swimwear V-Neck Tankini Contrasts is as follows:\\n- Body: 82% recycled nylon, 18% Lycra\\u00ae spandex\\n- Lining: 90% recycled nylon, 10% Lycra\\u00ae spandex\"\n",
      "}\n",
      "\u001b[36;1m\u001b[1;3m[chain/end]\u001b[0m \u001b[1m[1:chain:RetrievalQA > 2:chain:StuffDocumentsChain] [15.862000000000002ms] Exiting Chain run with output:\n",
      "\u001b[0m{\n",
      "  \"output_text\": \"The fabric composition of the Refresh Swimwear V-Neck Tankini Contrasts is as follows:\\n- Body: 82% recycled nylon, 18% Lycra\\u00ae spandex\\n- Lining: 90% recycled nylon, 10% Lycra\\u00ae spandex\"\n",
      "}\n",
      "\u001b[36;1m\u001b[1;3m[chain/end]\u001b[0m \u001b[1m[1:chain:RetrievalQA] [35.416000000000004ms] Exiting Chain run with output:\n",
      "\u001b[0m{\n",
      "  \"result\": \"The fabric composition of the Refresh Swimwear V-Neck Tankini Contrasts is as follows:\\n- Body: 82% recycled nylon, 18% Lycra\\u00ae spandex\\n- Lining: 90% recycled nylon, 10% Lycra\\u00ae spandex\"\n",
      "}\n",
      "\u001b[32;1m\u001b[1;3m[chain/start]\u001b[0m \u001b[1m[1:chain:RetrievalQA] Entering Chain run with input:\n",
      "\u001b[0m{\n",
      "  \"query\": \" What technology sets the EcoFlex 3L Storm Pants apart from other waterproof pants?\\n\\n\",\n",
      "  \"answer\": \" The EcoFlex 3L Storm Pants feature TEK O2 technology, which offers the most breathability ever tested in waterproof pants.\"\n",
      "}\n",
      "\u001b[32;1m\u001b[1;3m[chain/start]\u001b[0m \u001b[1m[1:chain:RetrievalQA > 2:chain:StuffDocumentsChain] Entering Chain run with input:\n",
      "\u001b[0m[inputs]\n",
      "\u001b[32;1m\u001b[1;3m[chain/start]\u001b[0m \u001b[1m[1:chain:RetrievalQA > 2:chain:StuffDocumentsChain > 3:chain:LLMChain] Entering Chain run with input:\n",
      "\u001b[0m{\n",
      "  \"question\": \" What technology sets the EcoFlex 3L Storm Pants apart from other waterproof pants?\\n\\n\",\n",
      "  \"context\": \": 4\\nname: EcoFlex 3L Storm Pants\\ndescription: Our new TEK O2 technology makes our four-season waterproof pants even more breathable. It's guaranteed to keep you dry and comfortable \\u2013 whatever the activity and whatever the weather. Size & Fit: Slightly Fitted through hip and thigh. \\n\\nWhy We Love It: Our state-of-the-art TEK O2 technology offers the most breathability we've ever tested. Great as ski pants, they're ideal for a variety of outdoor activities year-round. Plus, they're loaded with features outdoor enthusiasts appreciate, including weather-blocking gaiters and handy side zips. Air In. Water Out. See how our air-permeable TEK O2 technology keeps you dry and comfortable. \\n\\nFabric & Care: 100% nylon, exclusive of trim. Machine wash and dry.<<<<>>>>>: 645\\nname: Women's Waterproof Hiking Trousers\\ndescription: Our waterproof rain pants have been redesigned to be tougher and more durable, featuring a laminate interior for rugged protection and breathable comfort.\\n\\nSize & Fit\\n\\nSlightly Fitted. Best with lightweight layer.\\n\\nThe Technology\\nOur customer-favorite waterproof pants have been redesigned with a laminate construction - meaning the waterproof interior is bonded to the exterior shell, making them more durable, lightweight, and breathable.\\n\\nFabric & Care\\nTEK waterproof technology blocks the elements while maintaining breathable comfort. Made from 100% recycled nylon for minimal impact on the environment. Machine wash and dry.\\n\\nAdditional Features\\nAdjustable waist for a customized fit. Zippered back pocket. Zippered leg opening for easy on/off. Packs away for easy take-along. Imported.<<<<>>>>>description: Designed for variable weather conditions, our high-performance hiking pants provide protection from the elements and reliable comfort on the trail with their lightweight, water-repellent construction. Size & Fit: Modern Fit sits lowest on the waist and is slightly fitted through hip and thigh with a straight-leg. Fabric & Care: Water-repellent construction seals out moisture without sacrificing breathability, while a hybrid of woven and knit fabrics offers maximum abrasion resistance and moisture-wicking comfort. The nylon blend allows for just-right stretch where you need it most. Additional Features: Zoned cordura fabric provides maximum abrasion resistance in seat and knees, while a rear vent offers optimal breathability. Two zippered front pockets and one zippered back pocket are perfect for securing essentials and the articulated knees allow for ease of movement. A leg hem cord provides personalized adjustment and all of this is imported.<<<<>>>>>: 203\\nname: TEK O2 3L Tempest Jacket\\ndescription: Our latest exclusive waterproof/breathable TEK O2 technology offers four-season versatility, perfect for both on or off the trail. Size & Fit Slightly Fitted. Falls at hip. Why We Love It Innovative first-to-market waterproof/breathable technology is designed to keep you active, with three layers of high-performance fabric that instantly move moisture away for maximum protection against the elements. Air In. Water Out. See how our air-permeable TEK O2 technology keeps you dry and comfortable. Fabric & Care Waterproof, three-layer TEK O2 nylon shell, featuring our exclusive technology. Machine wash and dry. Additional Features Three-point adjustable hood allows a custom fit. Articulated sleeves provide free arm motion. Pit-zip venting. Taped seams and waterproof zippers for maximum protection. Two hand pockets and one chest pocket. Imported. \\n \\u2013 Official Supplier to the U.S. Ski Team THEIR WILL TO WIN, WOVEN RIGHT IN. LEARN MORE\"\n",
      "}\n",
      "\u001b[32;1m\u001b[1;3m[llm/start]\u001b[0m \u001b[1m[1:chain:RetrievalQA > 2:chain:StuffDocumentsChain > 3:chain:LLMChain > 4:llm:ChatOpenAI] Entering LLM run with input:\n",
      "\u001b[0m{\n",
      "  \"prompts\": [\n",
      "    \"System: Use the following pieces of context to answer the users question. \\nIf you don't know the answer, just say that you don't know, don't try to make up an answer.\\n----------------\\n: 4\\nname: EcoFlex 3L Storm Pants\\ndescription: Our new TEK O2 technology makes our four-season waterproof pants even more breathable. It's guaranteed to keep you dry and comfortable \\u2013 whatever the activity and whatever the weather. Size & Fit: Slightly Fitted through hip and thigh. \\n\\nWhy We Love It: Our state-of-the-art TEK O2 technology offers the most breathability we've ever tested. Great as ski pants, they're ideal for a variety of outdoor activities year-round. Plus, they're loaded with features outdoor enthusiasts appreciate, including weather-blocking gaiters and handy side zips. Air In. Water Out. See how our air-permeable TEK O2 technology keeps you dry and comfortable. \\n\\nFabric & Care: 100% nylon, exclusive of trim. Machine wash and dry.<<<<>>>>>: 645\\nname: Women's Waterproof Hiking Trousers\\ndescription: Our waterproof rain pants have been redesigned to be tougher and more durable, featuring a laminate interior for rugged protection and breathable comfort.\\n\\nSize & Fit\\n\\nSlightly Fitted. Best with lightweight layer.\\n\\nThe Technology\\nOur customer-favorite waterproof pants have been redesigned with a laminate construction - meaning the waterproof interior is bonded to the exterior shell, making them more durable, lightweight, and breathable.\\n\\nFabric & Care\\nTEK waterproof technology blocks the elements while maintaining breathable comfort. Made from 100% recycled nylon for minimal impact on the environment. Machine wash and dry.\\n\\nAdditional Features\\nAdjustable waist for a customized fit. Zippered back pocket. Zippered leg opening for easy on/off. Packs away for easy take-along. Imported.<<<<>>>>>description: Designed for variable weather conditions, our high-performance hiking pants provide protection from the elements and reliable comfort on the trail with their lightweight, water-repellent construction. Size & Fit: Modern Fit sits lowest on the waist and is slightly fitted through hip and thigh with a straight-leg. Fabric & Care: Water-repellent construction seals out moisture without sacrificing breathability, while a hybrid of woven and knit fabrics offers maximum abrasion resistance and moisture-wicking comfort. The nylon blend allows for just-right stretch where you need it most. Additional Features: Zoned cordura fabric provides maximum abrasion resistance in seat and knees, while a rear vent offers optimal breathability. Two zippered front pockets and one zippered back pocket are perfect for securing essentials and the articulated knees allow for ease of movement. A leg hem cord provides personalized adjustment and all of this is imported.<<<<>>>>>: 203\\nname: TEK O2 3L Tempest Jacket\\ndescription: Our latest exclusive waterproof/breathable TEK O2 technology offers four-season versatility, perfect for both on or off the trail. Size & Fit Slightly Fitted. Falls at hip. Why We Love It Innovative first-to-market waterproof/breathable technology is designed to keep you active, with three layers of high-performance fabric that instantly move moisture away for maximum protection against the elements. Air In. Water Out. See how our air-permeable TEK O2 technology keeps you dry and comfortable. Fabric & Care Waterproof, three-layer TEK O2 nylon shell, featuring our exclusive technology. Machine wash and dry. Additional Features Three-point adjustable hood allows a custom fit. Articulated sleeves provide free arm motion. Pit-zip venting. Taped seams and waterproof zippers for maximum protection. Two hand pockets and one chest pocket. Imported. \\n \\u2013 Official Supplier to the U.S. Ski Team THEIR WILL TO WIN, WOVEN RIGHT IN. LEARN MORE\\nHuman:  What technology sets the EcoFlex 3L Storm Pants apart from other waterproof pants?\"\n",
      "  ]\n",
      "}\n",
      "\u001b[36;1m\u001b[1;3m[llm/end]\u001b[0m \u001b[1m[1:chain:RetrievalQA > 2:chain:StuffDocumentsChain > 3:chain:LLMChain > 4:llm:ChatOpenAI] [18.691ms] Exiting LLM run with output:\n",
      "\u001b[0m{\n",
      "  \"generations\": [\n",
      "    [\n",
      "      {\n",
      "        \"text\": \"The EcoFlex 3L Storm Pants feature TEK O2 technology, which offers the most breathability tested. This technology allows air to permeate while keeping water out, providing maximum comfort and dryness during various outdoor activities.\",\n",
      "        \"generation_info\": null,\n",
      "        \"message\": {\n",
      "          \"content\": \"The EcoFlex 3L Storm Pants feature TEK O2 technology, which offers the most breathability tested. This technology allows air to permeate while keeping water out, providing maximum comfort and dryness during various outdoor activities.\",\n",
      "          \"additional_kwargs\": {},\n",
      "          \"example\": false\n",
      "        }\n",
      "      }\n",
      "    ]\n",
      "  ],\n",
      "  \"llm_output\": {\n",
      "    \"token_usage\": {\n",
      "      \"prompt_tokens\": 805,\n",
      "      \"completion_tokens\": 47,\n",
      "      \"total_tokens\": 852\n",
      "    },\n",
      "    \"model_name\": \"gpt-3.5-turbo\"\n",
      "  }\n",
      "}\n",
      "\u001b[36;1m\u001b[1;3m[chain/end]\u001b[0m \u001b[1m[1:chain:RetrievalQA > 2:chain:StuffDocumentsChain > 3:chain:LLMChain] [19.484ms] Exiting Chain run with output:\n",
      "\u001b[0m{\n",
      "  \"text\": \"The EcoFlex 3L Storm Pants feature TEK O2 technology, which offers the most breathability tested. This technology allows air to permeate while keeping water out, providing maximum comfort and dryness during various outdoor activities.\"\n",
      "}\n",
      "\u001b[36;1m\u001b[1;3m[chain/end]\u001b[0m \u001b[1m[1:chain:RetrievalQA > 2:chain:StuffDocumentsChain] [19.896ms] Exiting Chain run with output:\n",
      "\u001b[0m{\n",
      "  \"output_text\": \"The EcoFlex 3L Storm Pants feature TEK O2 technology, which offers the most breathability tested. This technology allows air to permeate while keeping water out, providing maximum comfort and dryness during various outdoor activities.\"\n",
      "}\n",
      "\u001b[36;1m\u001b[1;3m[chain/end]\u001b[0m \u001b[1m[1:chain:RetrievalQA] [46.714ms] Exiting Chain run with output:\n",
      "\u001b[0m{\n",
      "  \"result\": \"The EcoFlex 3L Storm Pants feature TEK O2 technology, which offers the most breathability tested. This technology allows air to permeate while keeping water out, providing maximum comfort and dryness during various outdoor activities.\"\n",
      "}\n"
     ]
    }
   ],
   "source": [
    "predictions = qa.apply(examples)"
   ]
  },
  {
   "cell_type": "code",
   "execution_count": 32,
   "id": "6012a3e0",
   "metadata": {
    "height": 30
   },
   "outputs": [],
   "source": [
    "from langchain.evaluation.qa import QAEvalChain"
   ]
  },
  {
   "cell_type": "code",
   "execution_count": 33,
   "id": "724b1c0b",
   "metadata": {
    "height": 47
   },
   "outputs": [],
   "source": [
    "llm = ChatOpenAI(temperature=0, model=llm_model)\n",
    "eval_chain = QAEvalChain.from_llm(llm)"
   ]
  },
  {
   "cell_type": "code",
   "execution_count": 34,
   "id": "8b46ae55",
   "metadata": {
    "height": 30
   },
   "outputs": [
    {
     "name": "stdout",
     "output_type": "stream",
     "text": [
      "\u001b[32;1m\u001b[1;3m[chain/start]\u001b[0m \u001b[1m[1:chain:QAEvalChain] Entering Chain run with input:\n",
      "\u001b[0m{\n",
      "  \"input_list\": [\n",
      "    {\n",
      "      \"query\": \"Do the Cozy Comfort Pullover Set        have side pockets?\",\n",
      "      \"answer\": \"Yes\",\n",
      "      \"result\": \"Yes, the Cozy Comfort Pullover Set does have side pockets.\"\n",
      "    },\n",
      "    {\n",
      "      \"query\": \"What collection is the Ultra-Lofty         850 Stretch Down Hooded Jacket from?\",\n",
      "      \"answer\": \"The DownTek collection\",\n",
      "      \"result\": \"The Ultra-Lofty 850 Stretch Down Hooded Jacket is from the DownTek collection.\"\n",
      "    },\n",
      "    {\n",
      "      \"query\": \" What is the approximate weight of the Women's Campside Oxfords per pair?\\n\\n\",\n",
      "      \"answer\": \" The approximate weight of the Women's Campside Oxfords per pair is 1 lb. 1 oz.\",\n",
      "      \"result\": \"The approximate weight of the Women's Campside Oxfords per pair is 1 lb. 1 oz.\"\n",
      "    },\n",
      "    {\n",
      "      \"query\": \" What are the dimensions of the small and medium sizes of the Recycled Waterhog Dog Mat, Chevron Weave?\\n\\n\",\n",
      "      \"answer\": \" The small size has dimensions of 18\\\" x 28\\\" and the medium size has dimensions of 22.5\\\" x 34.5\\\".\",\n",
      "      \"result\": \"The dimensions of the small size of the Recycled Waterhog Dog Mat, Chevron Weave are 18\\\" x 28\\\", and the dimensions of the medium size are 22.5\\\" x 34.5\\\".\"\n",
      "    },\n",
      "    {\n",
      "      \"query\": \" What are some key features of the Infant and Toddler Girls' Coastal Chill Swimsuit, Two-Piece as described in the document?\\n\\n\",\n",
      "      \"answer\": \" The key features of the Infant and Toddler Girls' Coastal Chill Swimsuit, Two-Piece include bright colors, ruffles, exclusive whimsical prints, four-way-stretch and chlorine-resistant fabric, UPF 50+ rated fabric for sun protection, crossover no-slip straps, fully lined bottom for secure fit and maximum coverage.\",\n",
      "      \"result\": \"Some key features of the Infant and Toddler Girls' Coastal Chill Swimsuit, Two-Piece are:\\n- Bright colors, ruffles, and exclusive whimsical prints\\n- Four-way-stretch and chlorine-resistant fabric\\n- UPF 50+ rated fabric for high sun protection\\n- Crossover no-slip straps for a secure fit\\n- Fully lined bottom for maximum coverage\\n- Machine washable and line dry for best results\"\n",
      "    },\n",
      "    {\n",
      "      \"query\": \" What is the fabric composition of the Refresh Swimwear V-Neck Tankini Contrasts?\\n\\n\",\n",
      "      \"answer\": \" The body of the tankini top is made of 82% recycled nylon and 18% Lycra\\u00ae spandex, while the lining is made of 90% recycled nylon and 10% Lycra\\u00ae spandex.\",\n",
      "      \"result\": \"The fabric composition of the Refresh Swimwear V-Neck Tankini Contrasts is as follows:\\n- Body: 82% recycled nylon, 18% Lycra\\u00ae spandex\\n- Lining: 90% recycled nylon, 10% Lycra\\u00ae spandex\"\n",
      "    },\n",
      "    {\n",
      "      \"query\": \" What technology sets the EcoFlex 3L Storm Pants apart from other waterproof pants?\\n\\n\",\n",
      "      \"answer\": \" The EcoFlex 3L Storm Pants feature TEK O2 technology, which offers the most breathability ever tested in waterproof pants.\",\n",
      "      \"result\": \"The EcoFlex 3L Storm Pants feature TEK O2 technology, which offers the most breathability tested. This technology allows air to permeate while keeping water out, providing maximum comfort and dryness during various outdoor activities.\"\n",
      "    }\n",
      "  ]\n",
      "}\n",
      "\u001b[32;1m\u001b[1;3m[llm/start]\u001b[0m \u001b[1m[1:chain:QAEvalChain > 2:llm:ChatOpenAI] Entering LLM run with input:\n",
      "\u001b[0m{\n",
      "  \"prompts\": [\n",
      "    \"Human: You are a teacher grading a quiz.\\nYou are given a question, the student's answer, and the true answer, and are asked to score the student answer as either CORRECT or INCORRECT.\\n\\nExample Format:\\nQUESTION: question here\\nSTUDENT ANSWER: student's answer here\\nTRUE ANSWER: true answer here\\nGRADE: CORRECT or INCORRECT here\\n\\nGrade the student answers based ONLY on their factual accuracy. Ignore differences in punctuation and phrasing between the student answer and true answer. It is OK if the student answer contains more information than the true answer, as long as it does not contain any conflicting statements. Begin! \\n\\nQUESTION: Do the Cozy Comfort Pullover Set        have side pockets?\\nSTUDENT ANSWER: Yes, the Cozy Comfort Pullover Set does have side pockets.\\nTRUE ANSWER: Yes\\nGRADE:\",\n",
      "    \"Human: You are a teacher grading a quiz.\\nYou are given a question, the student's answer, and the true answer, and are asked to score the student answer as either CORRECT or INCORRECT.\\n\\nExample Format:\\nQUESTION: question here\\nSTUDENT ANSWER: student's answer here\\nTRUE ANSWER: true answer here\\nGRADE: CORRECT or INCORRECT here\\n\\nGrade the student answers based ONLY on their factual accuracy. Ignore differences in punctuation and phrasing between the student answer and true answer. It is OK if the student answer contains more information than the true answer, as long as it does not contain any conflicting statements. Begin! \\n\\nQUESTION: What collection is the Ultra-Lofty         850 Stretch Down Hooded Jacket from?\\nSTUDENT ANSWER: The Ultra-Lofty 850 Stretch Down Hooded Jacket is from the DownTek collection.\\nTRUE ANSWER: The DownTek collection\\nGRADE:\",\n",
      "    \"Human: You are a teacher grading a quiz.\\nYou are given a question, the student's answer, and the true answer, and are asked to score the student answer as either CORRECT or INCORRECT.\\n\\nExample Format:\\nQUESTION: question here\\nSTUDENT ANSWER: student's answer here\\nTRUE ANSWER: true answer here\\nGRADE: CORRECT or INCORRECT here\\n\\nGrade the student answers based ONLY on their factual accuracy. Ignore differences in punctuation and phrasing between the student answer and true answer. It is OK if the student answer contains more information than the true answer, as long as it does not contain any conflicting statements. Begin! \\n\\nQUESTION:  What is the approximate weight of the Women's Campside Oxfords per pair?\\n\\n\\nSTUDENT ANSWER: The approximate weight of the Women's Campside Oxfords per pair is 1 lb. 1 oz.\\nTRUE ANSWER:  The approximate weight of the Women's Campside Oxfords per pair is 1 lb. 1 oz.\\nGRADE:\",\n",
      "    \"Human: You are a teacher grading a quiz.\\nYou are given a question, the student's answer, and the true answer, and are asked to score the student answer as either CORRECT or INCORRECT.\\n\\nExample Format:\\nQUESTION: question here\\nSTUDENT ANSWER: student's answer here\\nTRUE ANSWER: true answer here\\nGRADE: CORRECT or INCORRECT here\\n\\nGrade the student answers based ONLY on their factual accuracy. Ignore differences in punctuation and phrasing between the student answer and true answer. It is OK if the student answer contains more information than the true answer, as long as it does not contain any conflicting statements. Begin! \\n\\nQUESTION:  What are the dimensions of the small and medium sizes of the Recycled Waterhog Dog Mat, Chevron Weave?\\n\\n\\nSTUDENT ANSWER: The dimensions of the small size of the Recycled Waterhog Dog Mat, Chevron Weave are 18\\\" x 28\\\", and the dimensions of the medium size are 22.5\\\" x 34.5\\\".\\nTRUE ANSWER:  The small size has dimensions of 18\\\" x 28\\\" and the medium size has dimensions of 22.5\\\" x 34.5\\\".\\nGRADE:\",\n",
      "    \"Human: You are a teacher grading a quiz.\\nYou are given a question, the student's answer, and the true answer, and are asked to score the student answer as either CORRECT or INCORRECT.\\n\\nExample Format:\\nQUESTION: question here\\nSTUDENT ANSWER: student's answer here\\nTRUE ANSWER: true answer here\\nGRADE: CORRECT or INCORRECT here\\n\\nGrade the student answers based ONLY on their factual accuracy. Ignore differences in punctuation and phrasing between the student answer and true answer. It is OK if the student answer contains more information than the true answer, as long as it does not contain any conflicting statements. Begin! \\n\\nQUESTION:  What are some key features of the Infant and Toddler Girls' Coastal Chill Swimsuit, Two-Piece as described in the document?\\n\\n\\nSTUDENT ANSWER: Some key features of the Infant and Toddler Girls' Coastal Chill Swimsuit, Two-Piece are:\\n- Bright colors, ruffles, and exclusive whimsical prints\\n- Four-way-stretch and chlorine-resistant fabric\\n- UPF 50+ rated fabric for high sun protection\\n- Crossover no-slip straps for a secure fit\\n- Fully lined bottom for maximum coverage\\n- Machine washable and line dry for best results\\nTRUE ANSWER:  The key features of the Infant and Toddler Girls' Coastal Chill Swimsuit, Two-Piece include bright colors, ruffles, exclusive whimsical prints, four-way-stretch and chlorine-resistant fabric, UPF 50+ rated fabric for sun protection, crossover no-slip straps, fully lined bottom for secure fit and maximum coverage.\\nGRADE:\",\n",
      "    \"Human: You are a teacher grading a quiz.\\nYou are given a question, the student's answer, and the true answer, and are asked to score the student answer as either CORRECT or INCORRECT.\\n\\nExample Format:\\nQUESTION: question here\\nSTUDENT ANSWER: student's answer here\\nTRUE ANSWER: true answer here\\nGRADE: CORRECT or INCORRECT here\\n\\nGrade the student answers based ONLY on their factual accuracy. Ignore differences in punctuation and phrasing between the student answer and true answer. It is OK if the student answer contains more information than the true answer, as long as it does not contain any conflicting statements. Begin! \\n\\nQUESTION:  What is the fabric composition of the Refresh Swimwear V-Neck Tankini Contrasts?\\n\\n\\nSTUDENT ANSWER: The fabric composition of the Refresh Swimwear V-Neck Tankini Contrasts is as follows:\\n- Body: 82% recycled nylon, 18% Lycra\\u00ae spandex\\n- Lining: 90% recycled nylon, 10% Lycra\\u00ae spandex\\nTRUE ANSWER:  The body of the tankini top is made of 82% recycled nylon and 18% Lycra\\u00ae spandex, while the lining is made of 90% recycled nylon and 10% Lycra\\u00ae spandex.\\nGRADE:\",\n",
      "    \"Human: You are a teacher grading a quiz.\\nYou are given a question, the student's answer, and the true answer, and are asked to score the student answer as either CORRECT or INCORRECT.\\n\\nExample Format:\\nQUESTION: question here\\nSTUDENT ANSWER: student's answer here\\nTRUE ANSWER: true answer here\\nGRADE: CORRECT or INCORRECT here\\n\\nGrade the student answers based ONLY on their factual accuracy. Ignore differences in punctuation and phrasing between the student answer and true answer. It is OK if the student answer contains more information than the true answer, as long as it does not contain any conflicting statements. Begin! \\n\\nQUESTION:  What technology sets the EcoFlex 3L Storm Pants apart from other waterproof pants?\\n\\n\\nSTUDENT ANSWER: The EcoFlex 3L Storm Pants feature TEK O2 technology, which offers the most breathability tested. This technology allows air to permeate while keeping water out, providing maximum comfort and dryness during various outdoor activities.\\nTRUE ANSWER:  The EcoFlex 3L Storm Pants feature TEK O2 technology, which offers the most breathability ever tested in waterproof pants.\\nGRADE:\"\n",
      "  ]\n",
      "}\n",
      "\u001b[36;1m\u001b[1;3m[llm/end]\u001b[0m \u001b[1m[1:chain:QAEvalChain > 2:llm:ChatOpenAI] [111.577ms] Exiting LLM run with output:\n",
      "\u001b[0m{\n",
      "  \"generations\": [\n",
      "    [\n",
      "      {\n",
      "        \"text\": \"CORRECT\",\n",
      "        \"generation_info\": null,\n",
      "        \"message\": {\n",
      "          \"content\": \"CORRECT\",\n",
      "          \"additional_kwargs\": {},\n",
      "          \"example\": false\n",
      "        }\n",
      "      }\n",
      "    ],\n",
      "    [\n",
      "      {\n",
      "        \"text\": \"CORRECT\",\n",
      "        \"generation_info\": null,\n",
      "        \"message\": {\n",
      "          \"content\": \"CORRECT\",\n",
      "          \"additional_kwargs\": {},\n",
      "          \"example\": false\n",
      "        }\n",
      "      }\n",
      "    ],\n",
      "    [\n",
      "      {\n",
      "        \"text\": \"CORRECT\",\n",
      "        \"generation_info\": null,\n",
      "        \"message\": {\n",
      "          \"content\": \"CORRECT\",\n",
      "          \"additional_kwargs\": {},\n",
      "          \"example\": false\n",
      "        }\n",
      "      }\n",
      "    ],\n",
      "    [\n",
      "      {\n",
      "        \"text\": \"CORRECT\",\n",
      "        \"generation_info\": null,\n",
      "        \"message\": {\n",
      "          \"content\": \"CORRECT\",\n",
      "          \"additional_kwargs\": {},\n",
      "          \"example\": false\n",
      "        }\n",
      "      }\n",
      "    ],\n",
      "    [\n",
      "      {\n",
      "        \"text\": \"CORRECT\",\n",
      "        \"generation_info\": null,\n",
      "        \"message\": {\n",
      "          \"content\": \"CORRECT\",\n",
      "          \"additional_kwargs\": {},\n",
      "          \"example\": false\n",
      "        }\n",
      "      }\n",
      "    ],\n",
      "    [\n",
      "      {\n",
      "        \"text\": \"CORRECT\",\n",
      "        \"generation_info\": null,\n",
      "        \"message\": {\n",
      "          \"content\": \"CORRECT\",\n",
      "          \"additional_kwargs\": {},\n",
      "          \"example\": false\n",
      "        }\n",
      "      }\n",
      "    ],\n",
      "    [\n",
      "      {\n",
      "        \"text\": \"CORRECT\",\n",
      "        \"generation_info\": null,\n",
      "        \"message\": {\n",
      "          \"content\": \"CORRECT\",\n",
      "          \"additional_kwargs\": {},\n",
      "          \"example\": false\n",
      "        }\n",
      "      }\n",
      "    ]\n",
      "  ],\n",
      "  \"llm_output\": {\n",
      "    \"token_usage\": {\n",
      "      \"prompt_tokens\": 1708,\n",
      "      \"completion_tokens\": 14,\n",
      "      \"total_tokens\": 1722\n",
      "    },\n",
      "    \"model_name\": \"gpt-3.5-turbo\"\n",
      "  }\n",
      "}\n",
      "\u001b[36;1m\u001b[1;3m[chain/end]\u001b[0m \u001b[1m[1:chain:QAEvalChain] [112.334ms] Exiting Chain run with output:\n",
      "\u001b[0m{\n",
      "  \"outputs\": [\n",
      "    {\n",
      "      \"text\": \"CORRECT\"\n",
      "    },\n",
      "    {\n",
      "      \"text\": \"CORRECT\"\n",
      "    },\n",
      "    {\n",
      "      \"text\": \"CORRECT\"\n",
      "    },\n",
      "    {\n",
      "      \"text\": \"CORRECT\"\n",
      "    },\n",
      "    {\n",
      "      \"text\": \"CORRECT\"\n",
      "    },\n",
      "    {\n",
      "      \"text\": \"CORRECT\"\n",
      "    },\n",
      "    {\n",
      "      \"text\": \"CORRECT\"\n",
      "    }\n",
      "  ]\n",
      "}\n"
     ]
    }
   ],
   "source": [
    "graded_outputs = eval_chain.evaluate(examples, predictions)"
   ]
  },
  {
   "cell_type": "code",
   "execution_count": 35,
   "id": "3437cfbe",
   "metadata": {
    "height": 132
   },
   "outputs": [
    {
     "name": "stdout",
     "output_type": "stream",
     "text": [
      "Example 0:\n",
      "Question: Do the Cozy Comfort Pullover Set        have side pockets?\n",
      "Real Answer: Yes\n",
      "Predicted Answer: Yes, the Cozy Comfort Pullover Set does have side pockets.\n",
      "Predicted Grade: CORRECT\n",
      "\n",
      "Example 1:\n",
      "Question: What collection is the Ultra-Lofty         850 Stretch Down Hooded Jacket from?\n",
      "Real Answer: The DownTek collection\n",
      "Predicted Answer: The Ultra-Lofty 850 Stretch Down Hooded Jacket is from the DownTek collection.\n",
      "Predicted Grade: CORRECT\n",
      "\n",
      "Example 2:\n",
      "Question:  What is the approximate weight of the Women's Campside Oxfords per pair?\n",
      "\n",
      "\n",
      "Real Answer:  The approximate weight of the Women's Campside Oxfords per pair is 1 lb. 1 oz.\n",
      "Predicted Answer: The approximate weight of the Women's Campside Oxfords per pair is 1 lb. 1 oz.\n",
      "Predicted Grade: CORRECT\n",
      "\n",
      "Example 3:\n",
      "Question:  What are the dimensions of the small and medium sizes of the Recycled Waterhog Dog Mat, Chevron Weave?\n",
      "\n",
      "\n",
      "Real Answer:  The small size has dimensions of 18\" x 28\" and the medium size has dimensions of 22.5\" x 34.5\".\n",
      "Predicted Answer: The dimensions of the small size of the Recycled Waterhog Dog Mat, Chevron Weave are 18\" x 28\", and the dimensions of the medium size are 22.5\" x 34.5\".\n",
      "Predicted Grade: CORRECT\n",
      "\n",
      "Example 4:\n",
      "Question:  What are some key features of the Infant and Toddler Girls' Coastal Chill Swimsuit, Two-Piece as described in the document?\n",
      "\n",
      "\n",
      "Real Answer:  The key features of the Infant and Toddler Girls' Coastal Chill Swimsuit, Two-Piece include bright colors, ruffles, exclusive whimsical prints, four-way-stretch and chlorine-resistant fabric, UPF 50+ rated fabric for sun protection, crossover no-slip straps, fully lined bottom for secure fit and maximum coverage.\n",
      "Predicted Answer: Some key features of the Infant and Toddler Girls' Coastal Chill Swimsuit, Two-Piece are:\n",
      "- Bright colors, ruffles, and exclusive whimsical prints\n",
      "- Four-way-stretch and chlorine-resistant fabric\n",
      "- UPF 50+ rated fabric for high sun protection\n",
      "- Crossover no-slip straps for a secure fit\n",
      "- Fully lined bottom for maximum coverage\n",
      "- Machine washable and line dry for best results\n",
      "Predicted Grade: CORRECT\n",
      "\n",
      "Example 5:\n",
      "Question:  What is the fabric composition of the Refresh Swimwear V-Neck Tankini Contrasts?\n",
      "\n",
      "\n",
      "Real Answer:  The body of the tankini top is made of 82% recycled nylon and 18% Lycra® spandex, while the lining is made of 90% recycled nylon and 10% Lycra® spandex.\n",
      "Predicted Answer: The fabric composition of the Refresh Swimwear V-Neck Tankini Contrasts is as follows:\n",
      "- Body: 82% recycled nylon, 18% Lycra® spandex\n",
      "- Lining: 90% recycled nylon, 10% Lycra® spandex\n",
      "Predicted Grade: CORRECT\n",
      "\n",
      "Example 6:\n",
      "Question:  What technology sets the EcoFlex 3L Storm Pants apart from other waterproof pants?\n",
      "\n",
      "\n",
      "Real Answer:  The EcoFlex 3L Storm Pants feature TEK O2 technology, which offers the most breathability ever tested in waterproof pants.\n",
      "Predicted Answer: The EcoFlex 3L Storm Pants feature TEK O2 technology, which offers the most breathability tested. This technology allows air to permeate while keeping water out, providing maximum comfort and dryness during various outdoor activities.\n",
      "Predicted Grade: CORRECT\n",
      "\n"
     ]
    }
   ],
   "source": [
    "for i, eg in enumerate(examples):\n",
    "    print(f\"Example {i}:\")\n",
    "    print(\"Question: \" + predictions[i]['query'])\n",
    "    print(\"Real Answer: \" + predictions[i]['answer'])\n",
    "    print(\"Predicted Answer: \" + predictions[i]['result'])\n",
    "    print(\"Predicted Grade: \" + graded_outputs[i]['text'])\n",
    "    print()"
   ]
  },
  {
   "cell_type": "code",
   "execution_count": 38,
   "id": "d95133bb-43b6-441d-9ba5-00ef5609ccc8",
   "metadata": {
    "height": 30
   },
   "outputs": [
    {
     "data": {
      "text/plain": [
       "{'text': 'CORRECT'}"
      ]
     },
     "execution_count": 38,
     "metadata": {},
     "output_type": "execute_result"
    }
   ],
   "source": [
    "graded_outputs[0]"
   ]
  },
  {
   "cell_type": "markdown",
   "id": "35b95a2e-3bc7-429a-83af-387239e7f2a1",
   "metadata": {},
   "source": [
    "Reminder: Download your notebook to you local computer to save your work."
   ]
  },
  {
   "cell_type": "code",
   "execution_count": null,
   "id": "be5b2aae",
   "metadata": {
    "height": 30
   },
   "outputs": [],
   "source": []
  },
  {
   "cell_type": "code",
   "execution_count": null,
   "id": "319798ba",
   "metadata": {
    "height": 30
   },
   "outputs": [],
   "source": []
  },
  {
   "cell_type": "code",
   "execution_count": null,
   "id": "89a504ad",
   "metadata": {
    "height": 30
   },
   "outputs": [],
   "source": []
  },
  {
   "cell_type": "code",
   "execution_count": null,
   "id": "dedd758b",
   "metadata": {
    "height": 30
   },
   "outputs": [],
   "source": []
  },
  {
   "cell_type": "code",
   "execution_count": null,
   "id": "36885b20",
   "metadata": {
    "height": 30
   },
   "outputs": [],
   "source": []
  },
  {
   "cell_type": "code",
   "execution_count": null,
   "id": "65c6cfb6",
   "metadata": {
    "height": 30
   },
   "outputs": [],
   "source": []
  },
  {
   "cell_type": "code",
   "execution_count": null,
   "id": "9ad3c7cc",
   "metadata": {
    "height": 30
   },
   "outputs": [],
   "source": []
  },
  {
   "cell_type": "code",
   "execution_count": null,
   "id": "26ac493e",
   "metadata": {
    "height": 30
   },
   "outputs": [],
   "source": []
  },
  {
   "cell_type": "code",
   "execution_count": null,
   "id": "f94cdacd",
   "metadata": {
    "height": 30
   },
   "outputs": [],
   "source": []
  }
 ],
 "metadata": {
  "kernelspec": {
   "display_name": "Python 3 (ipykernel)",
   "language": "python",
   "name": "python3"
  },
  "language_info": {
   "codemirror_mode": {
    "name": "ipython",
    "version": 3
   },
   "file_extension": ".py",
   "mimetype": "text/x-python",
   "name": "python",
   "nbconvert_exporter": "python",
   "pygments_lexer": "ipython3",
   "version": "3.9.19"
  }
 },
 "nbformat": 4,
 "nbformat_minor": 5
}
